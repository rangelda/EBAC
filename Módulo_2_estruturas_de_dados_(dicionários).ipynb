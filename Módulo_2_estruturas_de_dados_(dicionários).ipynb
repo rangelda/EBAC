{
  "nbformat": 4,
  "nbformat_minor": 0,
  "metadata": {
    "colab": {
      "name": "Módulo 2 estruturas de dados (dicionários)",
      "provenance": [],
      "authorship_tag": "ABX9TyMqVVH1Sijp7n6UGhP+NwO1",
      "include_colab_link": true
    },
    "kernelspec": {
      "name": "python3",
      "display_name": "Python 3"
    },
    "language_info": {
      "name": "python"
    }
  },
  "cells": [
    {
      "cell_type": "markdown",
      "metadata": {
        "id": "view-in-github",
        "colab_type": "text"
      },
      "source": [
        "<a href=\"https://colab.research.google.com/github/rangelda/EBAC/blob/main/M%C3%B3dulo_2_estruturas_de_dados_(dicion%C3%A1rios).ipynb\" target=\"_parent\"><img src=\"https://colab.research.google.com/assets/colab-badge.svg\" alt=\"Open In Colab\"/></a>"
      ]
    },
    {
      "cell_type": "markdown",
      "source": [
        "**Dicionários**\n",
        "\\\n",
        "Estruturas de dados que armazenam sequências de variáveis no formato *chave-valor*\\\n",
        "Estruturas de dados do tipo *dict* são aplicadas quando os dados disponíveis não possuem *profundidade*, listagem *flat*, não possuem relacionamento ou não há nível de hierarquia para determinar *pertencimento* e *correlação* entre os dados\n",
        "\\\n",
        "Na lista temos o elemento atribuido ao indice, no dicionário temos o elemento(chave) atribuido ao valor."
      ],
      "metadata": {
        "id": "KTt302G7pR_I"
      }
    },
    {
      "cell_type": "code",
      "execution_count": 1,
      "metadata": {
        "colab": {
          "base_uri": "https://localhost:8080/"
        },
        "id": "j3j_aKripNsA",
        "outputId": "d427cdba-0f87-4b11-9927-af063dc9abdd"
      },
      "outputs": [
        {
          "output_type": "stream",
          "name": "stdout",
          "text": [
            "['rede1', 'cnx_cnx', 'uai-fi', 'r3d3']\n"
          ]
        }
      ],
      "source": [
        "wifi_disponiveis = ['rede1', 'cnx_cnx', 'uai-fi', 'r3d3']\n",
        "print(wifi_disponiveis)"
      ]
    },
    {
      "cell_type": "markdown",
      "source": [
        "*dict* não permite chaves duplicadas, a linguagem descarta uma das duplicatas\n",
        "nomeação de índices dos elementos é uma ferramenta importante\n",
        "\n",
        "**Exemplos**"
      ],
      "metadata": {
        "id": "fkHOCho-q4AW"
      }
    },
    {
      "cell_type": "code",
      "source": [
        "ldk = {'cota':'MS58','local':'Dublin','origem':'Irlanda','folios':640}\n",
        "print(ldk)\n",
        "print(type(ldk))\n",
        "\n",
        "\n"
      ],
      "metadata": {
        "colab": {
          "base_uri": "https://localhost:8080/"
        },
        "id": "dQZevPW6rRqI",
        "outputId": "a05d781d-e587-4dc6-8c09-9d1beaf9b285"
      },
      "execution_count": 3,
      "outputs": [
        {
          "output_type": "stream",
          "name": "stdout",
          "text": [
            "{'cota': 'MS58', 'local': 'Dublin', 'origem': 'Irlanda', 'folios': 640}\n",
            "<class 'dict'>\n"
          ]
        }
      ]
    },
    {
      "cell_type": "markdown",
      "source": [
        "pode-se criar dicionários compostos"
      ],
      "metadata": {
        "id": "hoogKpZZxphl"
      }
    },
    {
      "cell_type": "code",
      "source": [
        "cadastro = {\n",
        "    'ldk': {\n",
        "        'edicao': 'MS58', \n",
        "        'periodo':'seculo IX', \n",
        "        'facs': {\n",
        "            'fac1': {\n",
        "              'edicao': 'urs fac', \n",
        "              'periodo': 1950\n",
        "            },\n",
        "            'fac2': {\n",
        "              'edicao': 'verlag fac', \n",
        "              'periodo': 1990\n",
        "            },\n",
        "            'fac3': {\n",
        "                'edicao': 'thames fac',\n",
        "                'periodo': 1974\n",
        "            },\n",
        "        }\n",
        "    }\n",
        "}\n",
        "\n",
        "print(cadastro)"
      ],
      "metadata": {
        "colab": {
          "base_uri": "https://localhost:8080/"
        },
        "id": "wB2RW-OlvYbz",
        "outputId": "c9c3285d-f8ae-44ad-9694-e9d218552258"
      },
      "execution_count": 7,
      "outputs": [
        {
          "output_type": "stream",
          "name": "stdout",
          "text": [
            "{'ldk': {'edicao': 'MS58', 'periodo': 'seculo IX', 'facs': {'fac1': {'edicao': 'urs fac', 'periodo': 1950}, 'fac2': {'edicao': 'verlag fac', 'periodo': 1990}, 'fac3': {'edicao': 'thames fac', 'periodo': 1974}}}}\n"
          ]
        }
      ]
    },
    {
      "cell_type": "code",
      "source": [
        "cadastro['ldk']['facs']['fac2']['edicao']"
      ],
      "metadata": {
        "colab": {
          "base_uri": "https://localhost:8080/",
          "height": 35
        },
        "id": "yqQiyew31BHL",
        "outputId": "7a613872-f240-45ac-a55f-c879fe54f686"
      },
      "execution_count": 8,
      "outputs": [
        {
          "output_type": "execute_result",
          "data": {
            "application/vnd.google.colaboratory.intrinsic+json": {
              "type": "string"
            },
            "text/plain": [
              "'verlag fac'"
            ]
          },
          "metadata": {},
          "execution_count": 8
        }
      ]
    },
    {
      "cell_type": "markdown",
      "source": [
        "**operações**\n",
        "\\\n",
        "manipulação dos elementos através da atribuição de diferentes valores no sistema chave-valor\n",
        "\\\n",
        "indices dos *dicts* são sempre strings, mesmo quando escritos com numerais\n",
        "\\\n",
        "\n",
        "**Conversões**\n",
        "\\\n",
        "Chave:valor podem ser convertidas em listas ( strings ) mas não o contrário, pela estrutura do *dict*"
      ],
      "metadata": {
        "id": "oWeDRWwvrz7i"
      }
    },
    {
      "cell_type": "code",
      "source": [
        ""
      ],
      "metadata": {
        "id": "pgOPDO06CLxF"
      },
      "execution_count": null,
      "outputs": []
    }
  ]
}