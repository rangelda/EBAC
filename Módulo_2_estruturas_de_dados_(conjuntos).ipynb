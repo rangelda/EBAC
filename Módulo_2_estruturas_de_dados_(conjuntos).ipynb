{
  "nbformat": 4,
  "nbformat_minor": 0,
  "metadata": {
    "colab": {
      "name": "Módulo 2 estruturas de dados (conjuntos)",
      "provenance": [],
      "authorship_tag": "ABX9TyMFEQmTb1+BBvkB4lUwFGBX",
      "include_colab_link": true
    },
    "kernelspec": {
      "name": "python3",
      "display_name": "Python 3"
    },
    "language_info": {
      "name": "python"
    }
  },
  "cells": [
    {
      "cell_type": "markdown",
      "metadata": {
        "id": "view-in-github",
        "colab_type": "text"
      },
      "source": [
        "<a href=\"https://colab.research.google.com/github/rangelda/EBAC/blob/main/M%C3%B3dulo_2_estruturas_de_dados_(conjuntos).ipynb\" target=\"_parent\"><img src=\"https://colab.research.google.com/assets/colab-badge.svg\" alt=\"Open In Colab\"/></a>"
      ]
    },
    {
      "cell_type": "markdown",
      "source": [
        "**Conjuntos**\n",
        "\n",
        "Sequência *imutável* e *desordenada* de valores, *sem repetição*\n",
        "\n",
        "Trabalha com agrupamento de elementos repetidos dentro de listas.\n",
        "\n"
      ],
      "metadata": {
        "id": "6ti-XW3-Ucb7"
      }
    },
    {
      "cell_type": "code",
      "execution_count": 1,
      "metadata": {
        "colab": {
          "base_uri": "https://localhost:8080/"
        },
        "id": "KSkxuHFbUTOf",
        "outputId": "b0099583-6859-44ce-ae7a-fa1a0a1cdf04"
      },
      "outputs": [
        {
          "output_type": "stream",
          "name": "stdout",
          "text": [
            "{'banana', 'uva', 'maca'}\n",
            "<class 'set'>\n"
          ]
        }
      ],
      "source": [
        "frutas = {'banana', 'maca', 'uva', 'uva'}\n",
        "\n",
        "print(frutas)\n",
        "print(type(frutas))"
      ]
    },
    {
      "cell_type": "code",
      "source": [
        "edicoes = {'urs graf', 'th', 'fak_ver', 'tcd_dris','th'}\n",
        "print(edicoes)\n",
        "print(type(edicoes))\n"
      ],
      "metadata": {
        "colab": {
          "base_uri": "https://localhost:8080/"
        },
        "id": "yS8qZA0IVUPN",
        "outputId": "0e5ea59c-458e-451a-bc47-49ce73430611"
      },
      "execution_count": 2,
      "outputs": [
        {
          "output_type": "stream",
          "name": "stdout",
          "text": [
            "{'tcd_dris', 'urs graf', 'th', 'fak_ver'}\n",
            "<class 'set'>\n"
          ]
        }
      ]
    },
    {
      "cell_type": "markdown",
      "source": [
        "As operações da estrutura do tipo *set* são:\n",
        "\n",
        "\n",
        "*   `-` (diferença)."
      ],
      "metadata": {
        "id": "ngXIb6UpV8iC"
      }
    },
    {
      "cell_type": "code",
      "source": [
        "jogos = {'warmachine', 'uno', 'planescape', 'mtg','pokemon'}\n",
        "jogos_rpg = {'warmachine', 'planescape'}\n",
        "\n",
        "jogos_carta = jogos - jogos_rpg\n",
        "\n",
        "print(jogos_carta)"
      ],
      "metadata": {
        "colab": {
          "base_uri": "https://localhost:8080/"
        },
        "id": "l9rrlLk2g_KY",
        "outputId": "bc40e5b4-137c-4da3-e597-5e93c96d3e48"
      },
      "execution_count": 5,
      "outputs": [
        {
          "output_type": "stream",
          "name": "stdout",
          "text": [
            "{'pokemon', 'mtg', 'uno'}\n"
          ]
        }
      ]
    },
    {
      "cell_type": "markdown",
      "source": [
        "**Métodos de manipulação de conjuntos**\n",
        "\n",
        "adição e remoção\n",
        "- adicionar itens\n",
        "- remover itens"
      ],
      "metadata": {
        "id": "38IbfgHwjNSe"
      }
    },
    {
      "cell_type": "code",
      "source": [
        "sistemas_rpg = {'dnd', 'gurps', 'savage worlds'}\n",
        "\n",
        "# inserir um elemento no conjunto: set.add(val)\n",
        "sistemas_rpg.add('wod')\n",
        "print(sistemas_rpg)\n",
        "\n",
        "# remover um elemento no conjunto: set.remove(val)\n",
        "sistemas_rpg.remove('dnd')\n",
        "print(sistemas_rpg)\n"
      ],
      "metadata": {
        "colab": {
          "base_uri": "https://localhost:8080/"
        },
        "id": "3JIvoKXhjbVA",
        "outputId": "9b44238b-e5ae-406f-b969-31f43bf4c628"
      },
      "execution_count": 7,
      "outputs": [
        {
          "output_type": "stream",
          "name": "stdout",
          "text": [
            "{'savage worlds', 'dnd', 'gurps', 'wod'}\n",
            "{'savage worlds', 'gurps', 'wod'}\n"
          ]
        }
      ]
    },
    {
      "cell_type": "markdown",
      "source": [
        "**Conversão**\n",
        "\n",
        "- converte conjuntos para lista e vice-versa\n",
        "\n",
        "*utilidade*\n",
        "conversão de lista em conjuntos remove entradas duplicadas, podendo ser re-convertida em lista, sem as entradas"
      ],
      "metadata": {
        "id": "li0o9ozQkytL"
      }
    },
    {
      "cell_type": "code",
      "source": [
        "busca_mon = ['kells','codex','riches heures']\n",
        "busca_tue = ['lindisfarne','beastiary','music','kells']\n",
        "busca_wed = ['codex', 'psalter','music','hymn']\n",
        "busca_thu = ['kells','psalter','hymn','codex']\n",
        "busca_fri = ['hymn', 'hours','quran','beda']\n",
        "busca_sat = ['kells', 'beda','hours']\n",
        "busca_sun = ['quran', 'kells','hours']\n",
        "\n",
        "busca_sem = busca_mon + busca_tue + busca_wed + busca_thu + busca_fri + busca_sat + busca_sun\n",
        "print(busca_sem)\n",
        "print(len(busca_sem))\n",
        "\n",
        "\n",
        "busca_sem = list(set(busca_mon + busca_tue + busca_wed + busca_thu + busca_fri + busca_sat + busca_sun))\n",
        "print(busca_sem)\n",
        "print(len(busca_sem))\n",
        "\n",
        "\n",
        "busca_sem = set(list(busca_mon + busca_tue + busca_wed + busca_thu + busca_fri + busca_sat + busca_sun))\n",
        "print(busca_sem)\n",
        "print(len(busca_sem))"
      ],
      "metadata": {
        "colab": {
          "base_uri": "https://localhost:8080/"
        },
        "id": "A30HjE7rk8dW",
        "outputId": "32e0d3c0-3677-4af3-bc59-fcd8ed5d386d"
      },
      "execution_count": 12,
      "outputs": [
        {
          "output_type": "stream",
          "name": "stdout",
          "text": [
            "['kells', 'codex', 'riches heures', 'lindisfarne', 'beastiary', 'music', 'kells', 'codex', 'psalter', 'music', 'hymn', 'kells', 'psalter', 'hymn', 'codex', 'hymn', 'hours', 'quran', 'beda', 'kells', 'beda', 'hours', 'quran', 'kells', 'hours']\n",
            "25\n",
            "['psalter', 'beastiary', 'music', 'codex', 'quran', 'lindisfarne', 'riches heures', 'kells', 'hymn', 'hours', 'beda']\n",
            "11\n",
            "{'psalter', 'beastiary', 'music', 'codex', 'quran', 'lindisfarne', 'riches heures', 'kells', 'hymn', 'hours', 'beda'}\n",
            "11\n"
          ]
        }
      ]
    }
  ]
}