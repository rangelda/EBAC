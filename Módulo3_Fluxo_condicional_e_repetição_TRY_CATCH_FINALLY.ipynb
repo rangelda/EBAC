{
  "nbformat": 4,
  "nbformat_minor": 0,
  "metadata": {
    "colab": {
      "name": "Módulo3-Fluxo condicional e repetição - TRY/CATCH/FINALLY",
      "provenance": [],
      "authorship_tag": "ABX9TyNxboPSAn2DHOdSm3Pqq1a8",
      "include_colab_link": true
    },
    "kernelspec": {
      "name": "python3",
      "display_name": "Python 3"
    },
    "language_info": {
      "name": "python"
    }
  },
  "cells": [
    {
      "cell_type": "markdown",
      "metadata": {
        "id": "view-in-github",
        "colab_type": "text"
      },
      "source": [
        "<a href=\"https://colab.research.google.com/github/rangelda/EBAC/blob/main/M%C3%B3dulo3_Fluxo_condicional_e_repeti%C3%A7%C3%A3o_TRY_CATCH_FINALLY.ipynb\" target=\"_parent\"><img src=\"https://colab.research.google.com/assets/colab-badge.svg\" alt=\"Open In Colab\"/></a>"
      ]
    },
    {
      "cell_type": "markdown",
      "source": [
        "**TRY/CATCH/FINALLY**\n",
        "\n",
        "  EXCEÇÃO = ERROS\n",
        "\n",
        "Tipos\n",
        "\\\n",
        "operações numéricas impossíveis\n",
        "\\\n",
        "erro por combinação de tipos diferentes\n",
        "\\\n",
        "erro de indexação de estrutura de dados"
      ],
      "metadata": {
        "id": "wc25S95mHU3S"
      }
    },
    {
      "cell_type": "code",
      "execution_count": null,
      "metadata": {
        "id": "P9vhkDlCC9a_"
      },
      "outputs": [],
      "source": [
        "preco = 132.85\n",
        "pessoas = 0"
      ]
    },
    {
      "cell_type": "code",
      "source": [
        "valor_por_pessoa = preco / pessoas"
      ],
      "metadata": {
        "colab": {
          "base_uri": "https://localhost:8080/",
          "height": 165
        },
        "id": "EGM2F0SV7X6k",
        "outputId": "ee2b9b89-d564-4ba9-83c3-0afa06938910"
      },
      "execution_count": null,
      "outputs": [
        {
          "output_type": "error",
          "ename": "ZeroDivisionError",
          "evalue": "ignored",
          "traceback": [
            "\u001b[0;31m---------------------------------------------------------------------------\u001b[0m",
            "\u001b[0;31mZeroDivisionError\u001b[0m                         Traceback (most recent call last)",
            "\u001b[0;32m<ipython-input-2-995750ad573d>\u001b[0m in \u001b[0;36m<module>\u001b[0;34m()\u001b[0m\n\u001b[0;32m----> 1\u001b[0;31m \u001b[0mvalor_por_pessoa\u001b[0m \u001b[0;34m=\u001b[0m \u001b[0mpreco\u001b[0m \u001b[0;34m/\u001b[0m \u001b[0mpessoas\u001b[0m\u001b[0;34m\u001b[0m\u001b[0;34m\u001b[0m\u001b[0m\n\u001b[0m",
            "\u001b[0;31mZeroDivisionError\u001b[0m: float division by zero"
          ]
        }
      ]
    },
    {
      "cell_type": "code",
      "source": [
        "nome = 'Andre Perez'\n",
        "idade = True"
      ],
      "metadata": {
        "id": "Ujxm-I3wJCT2"
      },
      "execution_count": null,
      "outputs": []
    },
    {
      "cell_type": "code",
      "source": [
        "apresentacao = 'Fala pessoal, meu nome é ' + nome + ' e eu tenho ' + idade + ' anos'"
      ],
      "metadata": {
        "colab": {
          "base_uri": "https://localhost:8080/",
          "height": 165
        },
        "id": "0tHalOzE7fj7",
        "outputId": "83c1c1bf-cf42-43a7-e11f-0c04857b7174"
      },
      "execution_count": null,
      "outputs": [
        {
          "output_type": "error",
          "ename": "TypeError",
          "evalue": "ignored",
          "traceback": [
            "\u001b[0;31m---------------------------------------------------------------------------\u001b[0m",
            "\u001b[0;31mTypeError\u001b[0m                                 Traceback (most recent call last)",
            "\u001b[0;32m<ipython-input-4-4da5a38e4d90>\u001b[0m in \u001b[0;36m<module>\u001b[0;34m()\u001b[0m\n\u001b[0;32m----> 1\u001b[0;31m \u001b[0mapresentacao\u001b[0m \u001b[0;34m=\u001b[0m \u001b[0;34m'Fala pessoal, meu nome é '\u001b[0m \u001b[0;34m+\u001b[0m \u001b[0mnome\u001b[0m \u001b[0;34m+\u001b[0m \u001b[0;34m' e eu tenho '\u001b[0m \u001b[0;34m+\u001b[0m \u001b[0midade\u001b[0m \u001b[0;34m+\u001b[0m \u001b[0;34m' anos'\u001b[0m\u001b[0;34m\u001b[0m\u001b[0;34m\u001b[0m\u001b[0m\n\u001b[0m",
            "\u001b[0;31mTypeError\u001b[0m: can only concatenate str (not \"bool\") to str"
          ]
        }
      ]
    },
    {
      "cell_type": "code",
      "source": [
        "anos = [2019, 2020, 2021]\n",
        "ano_atual = anos[3]"
      ],
      "metadata": {
        "colab": {
          "base_uri": "https://localhost:8080/",
          "height": 235
        },
        "id": "awOBuJVO7yun",
        "outputId": "5fbd8bc8-87ec-455b-95c0-71987a4736a0"
      },
      "execution_count": null,
      "outputs": [
        {
          "output_type": "error",
          "ename": "IndexError",
          "evalue": "ignored",
          "traceback": [
            "\u001b[0;31m---------------------------------------------------------------------------\u001b[0m",
            "\u001b[0;31mIndexError\u001b[0m                                Traceback (most recent call last)",
            "\u001b[0;32m<ipython-input-5-b3dc95550865>\u001b[0m in \u001b[0;36m<module>\u001b[0;34m()\u001b[0m\n\u001b[1;32m      1\u001b[0m \u001b[0manos\u001b[0m \u001b[0;34m=\u001b[0m \u001b[0;34m[\u001b[0m\u001b[0;36m2019\u001b[0m\u001b[0;34m,\u001b[0m \u001b[0;36m2020\u001b[0m\u001b[0;34m,\u001b[0m \u001b[0;36m2021\u001b[0m\u001b[0;34m]\u001b[0m\u001b[0;34m\u001b[0m\u001b[0;34m\u001b[0m\u001b[0m\n\u001b[0;32m----> 2\u001b[0;31m \u001b[0mano_atual\u001b[0m \u001b[0;34m=\u001b[0m \u001b[0manos\u001b[0m\u001b[0;34m[\u001b[0m\u001b[0;36m3\u001b[0m\u001b[0;34m]\u001b[0m\u001b[0;34m\u001b[0m\u001b[0;34m\u001b[0m\u001b[0m\n\u001b[0m\u001b[1;32m      3\u001b[0m \u001b[0;34m\u001b[0m\u001b[0m\n\u001b[1;32m      4\u001b[0m cursos = {\n\u001b[1;32m      5\u001b[0m     'python': {\n",
            "\u001b[0;31mIndexError\u001b[0m: list index out of range"
          ]
        }
      ]
    },
    {
      "cell_type": "code",
      "source": [
        "cursos = {\n",
        "    'python': {\n",
        "        'nome': 'Python para Análise de Dados', 'duracao': 2.5\n",
        "    }, \n",
        "    'sql': {\n",
        "        'nome': 'SQL para Análise de Dados', 'duracao': 2\n",
        "    }\n",
        "}\n",
        "\n",
        "curso_atual = cursos['analista']"
      ],
      "metadata": {
        "colab": {
          "base_uri": "https://localhost:8080/",
          "height": 200
        },
        "id": "-GRW4VW476-U",
        "outputId": "44802568-eb03-4111-fe4b-f1cb9b3e23d2"
      },
      "execution_count": null,
      "outputs": [
        {
          "output_type": "error",
          "ename": "KeyError",
          "evalue": "ignored",
          "traceback": [
            "\u001b[0;31m---------------------------------------------------------------------------\u001b[0m",
            "\u001b[0;31mKeyError\u001b[0m                                  Traceback (most recent call last)",
            "\u001b[0;32m<ipython-input-7-749318b46a81>\u001b[0m in \u001b[0;36m<module>\u001b[0;34m()\u001b[0m\n\u001b[1;32m      8\u001b[0m }\n\u001b[1;32m      9\u001b[0m \u001b[0;34m\u001b[0m\u001b[0m\n\u001b[0;32m---> 10\u001b[0;31m \u001b[0mcurso_atual\u001b[0m \u001b[0;34m=\u001b[0m \u001b[0mcursos\u001b[0m\u001b[0;34m[\u001b[0m\u001b[0;34m'analista'\u001b[0m\u001b[0;34m]\u001b[0m\u001b[0;34m\u001b[0m\u001b[0;34m\u001b[0m\u001b[0m\n\u001b[0m",
            "\u001b[0;31mKeyError\u001b[0m: 'analista'"
          ]
        }
      ]
    },
    {
      "cell_type": "markdown",
      "source": [
        ""
      ],
      "metadata": {
        "id": "3lNBf-TmKvJa"
      }
    },
    {
      "cell_type": "markdown",
      "source": [
        "\n",
        "## **TRY/EXCEPT**\n",
        "\n",
        "Desvio do fluxo de código para testar possíveis exceções no bloco de except"
      ],
      "metadata": {
        "id": "PYzNhk2lKRDR"
      }
    },
    {
      "cell_type": "code",
      "source": [
        "preco = 132.85\n",
        "pessoas = 2\n",
        "\n",
        "try:\n",
        "  valor_por_pessoa = preco / pessoas\n",
        "  print(valor_por_pessoa)\n",
        "except ZeroDivisionError:\n",
        "  print('Número de pessoas inválido. Espera-se um valor maior que 0 e obteve-se um valor igual a ' + str(pessoas))"
      ],
      "metadata": {
        "colab": {
          "base_uri": "https://localhost:8080/"
        },
        "id": "Dzp8dIQh81AE",
        "outputId": "5c244d82-0db2-49d5-9ae8-724eba516aeb"
      },
      "execution_count": null,
      "outputs": [
        {
          "output_type": "stream",
          "name": "stdout",
          "text": [
            "66.425\n"
          ]
        }
      ]
    },
    {
      "cell_type": "markdown",
      "source": [
        "**Exception**"
      ],
      "metadata": {
        "id": "q4Oro1_49ebX"
      }
    },
    {
      "cell_type": "code",
      "source": [
        "anos = [2019, 2020, 2021]\n",
        "\n",
        "try:\n",
        "  ano_atual = anos[3]\n",
        "  print(ano_atual)\n",
        "except Exception:\n",
        "  print('Lista de anos é menor que o valor escolhido. Espera-se um valor entre 0 e ' + str(len(anos) - 1))"
      ],
      "metadata": {
        "colab": {
          "base_uri": "https://localhost:8080/"
        },
        "id": "KrrfcpKq9kUu",
        "outputId": "c0488625-ae2b-436d-9489-c5d75ceaf16f"
      },
      "execution_count": null,
      "outputs": [
        {
          "output_type": "stream",
          "name": "stdout",
          "text": [
            "Lista de anos é menor que o valor escolhido. Espera-se um valor entre 0 e 2\n"
          ]
        }
      ]
    },
    {
      "cell_type": "markdown",
      "source": [
        "Erros genéricos podem ser tratados com o valor *exc*"
      ],
      "metadata": {
        "id": "pVDqzl3_90i5"
      }
    },
    {
      "cell_type": "code",
      "source": [
        "anos = [2019, 2020, 2021]\n",
        "\n",
        "try:\n",
        "  ano_atual = anos[3]\n",
        "  print(ano_atual)\n",
        "except IndexError:\n",
        "  print('Lista de anos é menor que o valor escolhido. Espera-se um valor entre 0 e ' + str(len(anos) - 1))\n",
        "except Exception as exc:\n",
        "  print(exc)\n",
        "  print('Erro genérico')"
      ],
      "metadata": {
        "colab": {
          "base_uri": "https://localhost:8080/"
        },
        "id": "SRMDLQh590B3",
        "outputId": "6f23d8e5-6a0d-4faf-945a-f982b8222417"
      },
      "execution_count": null,
      "outputs": [
        {
          "output_type": "stream",
          "name": "stdout",
          "text": [
            "Lista de anos é menor que o valor escolhido. Espera-se um valor entre 0 e 2\n"
          ]
        }
      ]
    },
    {
      "cell_type": "markdown",
      "source": [
        "**Dicas de código**\n",
        "\n",
        "Em primeiro lugar, capturar os erros mais específicos possíveis\n",
        "\\\n",
        "Acompanhar a execução do código para identificar os erros a serem tratados"
      ],
      "metadata": {
        "id": "OvlQrEk3-KPL"
      }
    },
    {
      "cell_type": "markdown",
      "source": [
        "## **TRY/EXCEPT/FINALLY**\n",
        "\n",
        "Blocos de finally são utilizados em conexões e contatos com outros sistemas\n",
        "uma 'segunda chance' para a execução do código."
      ],
      "metadata": {
        "id": "2oV0pQN2-jpK"
      }
    },
    {
      "cell_type": "code",
      "source": [
        "manuscrito = 'Livro de Kells'\n",
        "tamanho = 640\n",
        "\n",
        "try:\n",
        "  descricao = 'O manuscrito ' + manuscrito + ' possui ' + tamanho + ' folios'\n",
        "  print(descricao)\n",
        "except TypeError:\n",
        "  tamanho = str(tamanho)\n",
        "finally:\n",
        "  print('Segunda chance')\n",
        "  descricao = 'O manuscrito ' + manuscrito + ' possui ' + tamanho + ' folios'\n",
        "  print(descricao)"
      ],
      "metadata": {
        "colab": {
          "base_uri": "https://localhost:8080/"
        },
        "id": "z4zXza2M--oH",
        "outputId": "791e7ae8-74af-4502-ff41-67a62f7ae58b"
      },
      "execution_count": 1,
      "outputs": [
        {
          "output_type": "stream",
          "name": "stdout",
          "text": [
            "Segunda chance\n",
            "O manuscrito Livro de Kells possui 640 folios\n"
          ]
        }
      ]
    },
    {
      "cell_type": "markdown",
      "source": [
        "**O Python** aponta os erros e os tipos de erros, descrição e a linha de ocorrência.\n",
        "\\\n",
        "Boas práticas\n",
        "\\\n",
        "Tratamento de exceções:\n",
        "- Específicas\n",
        "- Genéricas\n"
      ],
      "metadata": {
        "id": "7jIzXcgB_JES"
      }
    }
  ]
}