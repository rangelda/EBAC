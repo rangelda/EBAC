{
  "nbformat": 4,
  "nbformat_minor": 0,
  "metadata": {
    "colab": {
      "name": "Módulo3-Fluxo condicional e repetição -FOR/IN",
      "provenance": [],
      "authorship_tag": "ABX9TyPHhL/81FI9k1Sl4tks2BmZ"
    },
    "kernelspec": {
      "name": "python3",
      "display_name": "Python 3"
    },
    "language_info": {
      "name": "python"
    }
  },
  "cells": [
    {
      "cell_type": "markdown",
      "source": [
        "**FOR/IN**\n",
        "\n",
        "execução repetida de um bloco de código, ao invés do *desvio* do código, como visto em try/except etc\n",
        "\\\n",
        "Fluxos de repetição são utilizados para executar iterações.\n",
        "\n",
        "```python\n",
        "for variavel_temporaria in coleção:\n",
        "  <execute este código>\n",
        "```"
      ],
      "metadata": {
        "id": "wc25S95mHU3S"
      }
    },
    {
      "cell_type": "markdown",
      "source": [
        "laços de *for* são usados em coleções\n",
        "\n",
        "**FOR/IN/RANGE**"
      ],
      "metadata": {
        "id": "j6UL1RXHEj9G"
      }
    },
    {
      "cell_type": "code",
      "source": [
        "c_pages = ['f2r','f13v','f18r','f18v','f22r','f29v']\n",
        "\n",
        "for folios in c_pages:\n",
        "  print(folios)\n"
      ],
      "metadata": {
        "colab": {
          "base_uri": "https://localhost:8080/"
        },
        "id": "bfJUOGmefhWv",
        "outputId": "080c66dc-9f21-4499-b215-8c44d8625457"
      },
      "execution_count": 12,
      "outputs": [
        {
          "output_type": "stream",
          "name": "stdout",
          "text": [
            "f2r\n",
            "f13v\n",
            "f18r\n",
            "f18v\n",
            "f22r\n",
            "f29v\n"
          ]
        }
      ]
    },
    {
      "cell_type": "code",
      "execution_count": null,
      "metadata": {
        "id": "P9vhkDlCC9a_",
        "colab": {
          "base_uri": "https://localhost:8080/"
        },
        "outputId": "b7c6e666-f814-4167-9ea9-ca69a9a58d4b"
      },
      "outputs": [
        {
          "output_type": "stream",
          "name": "stdout",
          "text": [
            "0\n",
            "1\n",
            "2\n",
            "3\n",
            "4\n",
            "5\n"
          ]
        }
      ],
      "source": [
        "for valor in range(6):\n",
        "  print(valor)\n",
        "\n",
        "  "
      ]
    },
    {
      "cell_type": "code",
      "source": [
        "soma = 0\n",
        "\n",
        "for valor in range(0, 100000):\n",
        "  soma = soma + valor\n",
        "  # print(soma)\n",
        "\n",
        "print(soma)"
      ],
      "metadata": {
        "colab": {
          "base_uri": "https://localhost:8080/"
        },
        "id": "8wyEut94Edvg",
        "outputId": "70b93cff-6117-4b75-bd16-79ea1d3278af"
      },
      "execution_count": null,
      "outputs": [
        {
          "output_type": "stream",
          "name": "stdout",
          "text": [
            "4999950000\n"
          ]
        }
      ]
    },
    {
      "cell_type": "code",
      "source": [
        "soma = 0\n",
        "\n",
        "for valor in range(0, 10):\n",
        "  soma = soma + valor\n",
        "  # print(soma)\n",
        "\n",
        "print(soma)"
      ],
      "metadata": {
        "colab": {
          "base_uri": "https://localhost:8080/"
        },
        "id": "DgEYiEJrK-Bw",
        "outputId": "0091e44f-848d-4102-c1b0-1feccdeab662"
      },
      "execution_count": null,
      "outputs": [
        {
          "output_type": "stream",
          "name": "stdout",
          "text": [
            "45\n"
          ]
        }
      ]
    },
    {
      "cell_type": "code",
      "source": [
        "for multiplo_dois in range(2, 10, 3):\n",
        "  print(multiplo_dois)"
      ],
      "metadata": {
        "colab": {
          "base_uri": "https://localhost:8080/"
        },
        "id": "BTPon1wOE2yi",
        "outputId": "5096cc4e-7b8d-4264-b52d-1deedc69c9b8"
      },
      "execution_count": null,
      "outputs": [
        {
          "output_type": "stream",
          "name": "stdout",
          "text": [
            "2\n",
            "5\n",
            "8\n"
          ]
        }
      ]
    },
    {
      "cell_type": "markdown",
      "source": [
        "**FOR/IN/LIST** \n"
      ],
      "metadata": {
        "id": "7rWoWtuRIdM-"
      }
    },
    {
      "cell_type": "code",
      "source": [
        "manuscritos = ['lindisfarne', 'kells', 'durrow', 'armagh']\n",
        "\n",
        "for manuscrito in manuscritos:\n",
        "  print(manuscrito)"
      ],
      "metadata": {
        "colab": {
          "base_uri": "https://localhost:8080/"
        },
        "id": "dY3kyYmWKjd9",
        "outputId": "89be72ff-b8ae-4e5d-95bb-f0ae0b21919c"
      },
      "execution_count": null,
      "outputs": [
        {
          "output_type": "stream",
          "name": "stdout",
          "text": [
            "lindisfarne\n",
            "kells\n",
            "durrow\n",
            "armagh\n"
          ]
        }
      ]
    },
    {
      "cell_type": "code",
      "source": [
        "c_pages = 'Folios 2r, 9v, 13r, 13v são carpet pages.'\n",
        "\n",
        "for verso in c_pages:\n",
        "  if (verso == 'v'):\n",
        "    print(f\"Folios '{verso}' são carpet pages.\")"
      ],
      "metadata": {
        "colab": {
          "base_uri": "https://localhost:8080/"
        },
        "id": "MPDNwCL2MCLx",
        "outputId": "a91ccd6e-8392-44c2-fd84-b03b9d41e44d"
      },
      "execution_count": 13,
      "outputs": [
        {
          "output_type": "stream",
          "name": "stdout",
          "text": [
            "Folios 'v' são carpet pages.\n",
            "Folios 'v' são carpet pages.\n"
          ]
        }
      ]
    },
    {
      "cell_type": "markdown",
      "source": [
        "Como tratar/nomear os valores de folios, compostos de *número* e *letra*?\n",
        "Ex: 4r, 15v, 16r, 16v"
      ],
      "metadata": {
        "id": "tVKVudrHid0V"
      }
    },
    {
      "cell_type": "markdown",
      "source": [
        "## **FOR/IN/DICT**\n",
        "\n",
        "Execução de blocos de código para *todos* os elementos de um dict\n",
        "\\\n",
        "Pode-se atuar com:\n",
        "- operador chave/valor .items\n",
        "- operador chave .keys\n",
        "- operador valor .valors"
      ],
      "metadata": {
        "id": "WBx77i-Ei2rQ"
      }
    },
    {
      "cell_type": "code",
      "source": [
        "documentos = {'LDK': 9, 'Durrow': 8, 'Riches': 12}"
      ],
      "metadata": {
        "id": "HrCeLNvejbBW"
      },
      "execution_count": 14,
      "outputs": []
    },
    {
      "cell_type": "code",
      "source": [
        "for chave, valor in documentos.items():\n",
        "  print(f'Para o documento {chave}, o período aproximado é Séc {valor}.')\n",
        "  print('\\n')"
      ],
      "metadata": {
        "colab": {
          "base_uri": "https://localhost:8080/"
        },
        "id": "k97VtGMAjnnj",
        "outputId": "f1b2aa4d-37fa-4b71-8880-9199f4adfb21"
      },
      "execution_count": 15,
      "outputs": [
        {
          "output_type": "stream",
          "name": "stdout",
          "text": [
            "Para o documento LDK, o período aproximado é Séc 9.\n",
            "\n",
            "\n",
            "Para o documento Durrow, o período aproximado é Séc 8.\n",
            "\n",
            "\n",
            "Para o documento Riches, o período aproximado é Séc 12.\n",
            "\n",
            "\n"
          ]
        }
      ]
    },
    {
      "cell_type": "code",
      "source": [
        "for chave in documentos.keys():\n",
        "  print(chave)\n",
        "  print(documentos[chave])\n",
        "  print(f'Para o documento {chave}, o período aproximado é Séc {documentos[chave]}.')\n",
        "  print('\\n')"
      ],
      "metadata": {
        "colab": {
          "base_uri": "https://localhost:8080/"
        },
        "id": "gqu9aAaCkwxI",
        "outputId": "fcc7a2ec-968f-481f-a379-ca478025e6ca"
      },
      "execution_count": 16,
      "outputs": [
        {
          "output_type": "stream",
          "name": "stdout",
          "text": [
            "LDK\n",
            "9\n",
            "Para o documento LDK, o período aproximado é Séc 9.\n",
            "\n",
            "\n",
            "Durrow\n",
            "8\n",
            "Para o documento Durrow, o período aproximado é Séc 8.\n",
            "\n",
            "\n",
            "Riches\n",
            "12\n",
            "Para o documento Riches, o período aproximado é Séc 12.\n",
            "\n",
            "\n"
          ]
        }
      ]
    },
    {
      "cell_type": "code",
      "source": [
        "for valor in documentos.values():\n",
        "  print(valor)\n",
        "  print(f'O período aproximado para os manuscritos é {valor}, mas não temos mais as chaves :(.')\n",
        "  print('\\n')"
      ],
      "metadata": {
        "colab": {
          "base_uri": "https://localhost:8080/"
        },
        "id": "qaFeJY4ulHtg",
        "outputId": "bd0f0834-0b4b-402b-c984-c331e963a8c1"
      },
      "execution_count": 18,
      "outputs": [
        {
          "output_type": "stream",
          "name": "stdout",
          "text": [
            "9\n",
            "O período aproximado para os manuscritos é 9, mas não temos mais as chaves :(.\n",
            "\n",
            "\n",
            "8\n",
            "O período aproximado para os manuscritos é 8, mas não temos mais as chaves :(.\n",
            "\n",
            "\n",
            "12\n",
            "O período aproximado para os manuscritos é 12, mas não temos mais as chaves :(.\n",
            "\n",
            "\n"
          ]
        }
      ]
    },
    {
      "cell_type": "markdown",
      "source": [
        "## **BREAK/CONTINUE**\n",
        "\n",
        "### Quebra e andamento dos loops de iterações \n",
        "\\\n",
        "Break - uso genérico para quebrar a repetição ao se encontrar o elemento desejado\n",
        "\\\n",
        "Continue - avanço do bloco de código (usado também com *else*, continuidade condicional)"
      ],
      "metadata": {
        "id": "x-gOntqWlV9F"
      }
    },
    {
      "cell_type": "code",
      "source": [
        "for i in range(0, 10*10*10*10*10*10):\n",
        "  print(i)\n",
        "  if i == 5:\n",
        "    break"
      ],
      "metadata": {
        "colab": {
          "base_uri": "https://localhost:8080/"
        },
        "id": "fAcNUMPtnTY8",
        "outputId": "3d97e6d8-ee8d-4951-b36e-62ec5535ea82"
      },
      "execution_count": 22,
      "outputs": [
        {
          "output_type": "stream",
          "name": "stdout",
          "text": [
            "0\n",
            "1\n",
            "2\n",
            "3\n",
            "4\n",
            "5\n"
          ]
        }
      ]
    },
    {
      "cell_type": "code",
      "source": [
        "numero = 3\n",
        "\n",
        "if numero % 2 == 0:\n",
        "  print(f'O numero {numero} é par')\n",
        "else:\n",
        "  print(f'O numero {numero} é impar')"
      ],
      "metadata": {
        "colab": {
          "base_uri": "https://localhost:8080/"
        },
        "id": "wkf15n5NnjQW",
        "outputId": "4cf578c4-cc28-43b9-e7a8-15a29eb8a5df"
      },
      "execution_count": 23,
      "outputs": [
        {
          "output_type": "stream",
          "name": "stdout",
          "text": [
            "O numero 3 é impar\n"
          ]
        }
      ]
    },
    {
      "cell_type": "code",
      "source": [
        "numeros = [361, 553, 194, 13, 510, 33, 135]\n",
        "\n",
        "for numero in numeros:\n",
        "\n",
        "  if numero % 2 == 0:\n",
        "    print(f'O numero {numero} é par')\n",
        "    break\n",
        "  else:\n",
        "    print(f'O numero {numero} é impar')"
      ],
      "metadata": {
        "colab": {
          "base_uri": "https://localhost:8080/"
        },
        "id": "U8r6nV_Zno22",
        "outputId": "a7d7b69b-f5c2-459e-d3ad-0d175ce32f75"
      },
      "execution_count": 24,
      "outputs": [
        {
          "output_type": "stream",
          "name": "stdout",
          "text": [
            "O numero 361 é impar\n",
            "O numero 553 é impar\n",
            "O numero 194 é par\n"
          ]
        }
      ]
    },
    {
      "cell_type": "code",
      "source": [
        "numeros = [361, 553, 194, 13, 510, 33, 135]\n",
        "\n",
        "for numero in numeros:\n",
        "\n",
        "  if numero % 2 == 0:\n",
        "    print(f'O numero {numero} é par')\n",
        "    break\n",
        "  else:\n",
        "    continue\n",
        "    print(f'O numero {numero} é impar')"
      ],
      "metadata": {
        "colab": {
          "base_uri": "https://localhost:8080/"
        },
        "id": "F6uN3NcKoT-j",
        "outputId": "695e6661-e988-4a8a-acb2-91f44f0f92dc"
      },
      "execution_count": 25,
      "outputs": [
        {
          "output_type": "stream",
          "name": "stdout",
          "text": [
            "O numero 194 é par\n"
          ]
        }
      ]
    }
  ]
}