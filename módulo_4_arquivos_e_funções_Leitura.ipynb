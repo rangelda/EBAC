{
  "nbformat": 4,
  "nbformat_minor": 0,
  "metadata": {
    "colab": {
      "name": "módulo 4 - arquivos e funções - Leitura",
      "provenance": [],
      "authorship_tag": "ABX9TyOUR/XOvw382CSewgjA82U6",
      "include_colab_link": true
    },
    "kernelspec": {
      "name": "python3",
      "display_name": "Python 3"
    },
    "language_info": {
      "name": "python"
    }
  },
  "cells": [
    {
      "cell_type": "markdown",
      "metadata": {
        "id": "view-in-github",
        "colab_type": "text"
      },
      "source": [
        "<a href=\"https://colab.research.google.com/github/rangelda/EBAC/blob/main/m%C3%B3dulo_4_arquivos_e_fun%C3%A7%C3%B5es_Leitura.ipynb\" target=\"_parent\"><img src=\"https://colab.research.google.com/assets/colab-badge.svg\" alt=\"Open In Colab\"/></a>"
      ]
    },
    {
      "cell_type": "markdown",
      "source": [
        "## Aula 1\n",
        "\n",
        "**Leitura** \n",
        "\n",
        "Leitura é um processo **passivo**\n",
        "\n",
        "declarar funções - trechos de código que podem ser reutilizados\n",
        "-\n",
        "\n",
        "escopo - onde a variável foi definida e o caminho para seu acesso\n",
        "-\n",
        "\n",
        "Código exemplo - específico do google collab"
      ],
      "metadata": {
        "id": "IgDPaOW_Icch"
      }
    },
    {
      "cell_type": "code",
      "execution_count": 1,
      "metadata": {
        "colab": {
          "base_uri": "https://localhost:8080/"
        },
        "id": "FTWJpzT2ISew",
        "outputId": "cf9e7247-7cc3-4c0f-d11a-2a8eeb50b953"
      },
      "outputs": [
        {
          "output_type": "stream",
          "name": "stdout",
          "text": [
            "Writing random.csv\n"
          ]
        }
      ],
      "source": [
        "%%writefile random.csv\n",
        "folios,year,place,language,tag\n",
        "450,1109,Cluny,french,MS04\n",
        "236,875,Northumbria,latim,NMS21\n",
        "120,1200,Northumbria,french,MS33\n"
      ]
    },
    {
      "cell_type": "markdown",
      "source": [
        "## with/open\n",
        "\n",
        "código para leitura dos arquivos"
      ],
      "metadata": {
        "id": "D_8QagOcJTUN"
      }
    },
    {
      "cell_type": "code",
      "source": [
        "with open(file='<caminho do arquivo>', mode='<modo de leitura>', encoding='<decodificador>') as <apelido>:\n",
        "  bloco de código"
      ],
      "metadata": {
        "colab": {
          "base_uri": "https://localhost:8080/",
          "height": 130
        },
        "id": "3RZB2fjYKPeQ",
        "outputId": "57a9914b-bea4-41a2-be6e-792b47a1c8a4"
      },
      "execution_count": null,
      "outputs": [
        {
          "output_type": "error",
          "ename": "SyntaxError",
          "evalue": "ignored",
          "traceback": [
            "\u001b[0;36m  File \u001b[0;32m\"<ipython-input-7-6392991b85cd>\"\u001b[0;36m, line \u001b[0;32m1\u001b[0m\n\u001b[0;31m    with open(file='<caminho do arquivo>', mode='<modo de leitura>', encoding='<decodificador>') as <apelido>:\u001b[0m\n\u001b[0m                                                                                                    ^\u001b[0m\n\u001b[0;31mSyntaxError\u001b[0m\u001b[0;31m:\u001b[0m invalid syntax\n"
          ]
        }
      ]
    },
    {
      "cell_type": "markdown",
      "source": [
        "*UTF-8* is one of the most commonly used encodings, and Python often defaults to using it.\n",
        "-\n",
        "\n",
        "UTF stands for **“Unicode Transformation Format”**, and the '8' means that 8-bit values are used in the encoding.\n",
        "-\n",
        "\n",
        "(There are also UTF-16 and UTF-32 encodings, but they are less frequently used than UTF-8.)"
      ],
      "metadata": {
        "id": "5XTpldP9LclP"
      }
    },
    {
      "cell_type": "markdown",
      "source": [
        "## read"
      ],
      "metadata": {
        "id": "F7OJaNdNMXjy"
      }
    },
    {
      "cell_type": "code",
      "source": [
        "conteudo = None\n",
        "\n",
        "with open(file='./random.csv', mode='r', encoding='utf8') as arquivo:\n",
        "  conteudo = arquivo.read()\n",
        "\n",
        "print(conteudo)"
      ],
      "metadata": {
        "colab": {
          "base_uri": "https://localhost:8080/"
        },
        "id": "4PmXNQ-aL2XD",
        "outputId": "0d4d835d-5626-4221-bb05-bca7c70ba48b"
      },
      "execution_count": 2,
      "outputs": [
        {
          "output_type": "stream",
          "name": "stdout",
          "text": [
            "folios,year,place,language,tag\n",
            "450,1109,Cluny,french,MS04\n",
            "236,875,Northumbria,latim,NMS21\n",
            "120,1200,Northumbria,french,MS33\n"
          ]
        }
      ]
    },
    {
      "cell_type": "markdown",
      "source": [
        "## readline\n",
        "\n",
        "**while** avalia se a condição é verdadeira ou não e condiciona a repetição do laço"
      ],
      "metadata": {
        "id": "i3cXO0LLMbDn"
      }
    },
    {
      "cell_type": "code",
      "source": [
        "conteudo = []\n",
        "\n",
        "with open(file='./random.csv', mode='r', encoding='utf8') as arquivo:\n",
        "  linha = arquivo.readline() # lê a primeira linha\n",
        "  while linha:\n",
        "    conteudo.append(linha)\n",
        "    linha = arquivo.readline() # lê uma nova linha, se a linha não existir, salva o valor None\n",
        "\n",
        "print(conteudo)\n",
        "\n",
        "for linha in conteudo:\n",
        "  print(linha)"
      ],
      "metadata": {
        "colab": {
          "base_uri": "https://localhost:8080/"
        },
        "id": "M6j6Jo34MhVV",
        "outputId": "536faf80-19df-4896-8389-00b8b1c2fa82"
      },
      "execution_count": 3,
      "outputs": [
        {
          "output_type": "stream",
          "name": "stdout",
          "text": [
            "['folios,year,place,language,tag\\n', '450,1109,Cluny,french,MS04\\n', '236,875,Northumbria,latim,NMS21\\n', '120,1200,Northumbria,french,MS33']\n",
            "folios,year,place,language,tag\n",
            "\n",
            "450,1109,Cluny,french,MS04\n",
            "\n",
            "236,875,Northumbria,latim,NMS21\n",
            "\n",
            "120,1200,Northumbria,french,MS33\n"
          ]
        }
      ]
    },
    {
      "cell_type": "code",
      "source": [
        "years = []\n",
        "\n",
        "with open(file='./random.csv', mode='r', encoding='utf8') as arquivo:\n",
        "  linha = arquivo.readline() # lê o cabeçalho\n",
        "  linha = arquivo.readline() # lê a primeira linha\n",
        "  while linha:\n",
        "    linha_separada = linha.split(sep=',') # quebra a string nas virgulas e salva os resultados em uma lista\n",
        "    year = linha_separada[0] # seleciona o primeiro elemento da lista\n",
        "    year = int(year) # converte o valor de string para integer (inteiro)\n",
        "    years.append(year) # salva o valor na lista de years\n",
        "    linha = arquivo.readline() # lê uma nova linha, se a linha não existir, salva o valor None\n",
        "\n",
        "print(years)"
      ],
      "metadata": {
        "colab": {
          "base_uri": "https://localhost:8080/"
        },
        "id": "ibvDzPppObyp",
        "outputId": "7cfb9365-4a33-4984-f0c7-9417a6214e91"
      },
      "execution_count": 4,
      "outputs": [
        {
          "output_type": "stream",
          "name": "stdout",
          "text": [
            "[450, 236, 120]\n"
          ]
        }
      ]
    },
    {
      "cell_type": "code",
      "source": [
        "places = []\n",
        "\n",
        "\n",
        "with open(file='./random.csv', mode='r', encoding='utf8') as arquivo:\n",
        "\n",
        "  linha = arquivo.readline()\n",
        "  linha = arquivo.readline()\n",
        "\n",
        "  while linha:\n",
        "    linha_separada = linha.split(sep=',')\n",
        "    place = linha_separada[2] \n",
        "    place = place + \"\"\n",
        "    places.append(place)\n",
        "    linha = arquivo.readline()\n",
        "\n",
        "print(places)"
      ],
      "metadata": {
        "colab": {
          "base_uri": "https://localhost:8080/"
        },
        "id": "EITbZELPPpnE",
        "outputId": "3a3d7bc8-e201-429d-814d-f6312289f1f8"
      },
      "execution_count": 8,
      "outputs": [
        {
          "output_type": "stream",
          "name": "stdout",
          "text": [
            "['Cluny', 'Northumbria', 'Northumbria']\n"
          ]
        }
      ]
    }
  ]
}