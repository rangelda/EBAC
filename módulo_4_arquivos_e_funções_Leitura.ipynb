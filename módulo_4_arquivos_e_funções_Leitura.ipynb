{
  "nbformat": 4,
  "nbformat_minor": 0,
  "metadata": {
    "colab": {
      "name": "módulo 4 - arquivos e funções - Leitura",
      "provenance": [],
      "authorship_tag": "ABX9TyOxMB9FAUQjBt/swLNvJX9l",
      "include_colab_link": true
    },
    "kernelspec": {
      "name": "python3",
      "display_name": "Python 3"
    },
    "language_info": {
      "name": "python"
    }
  },
  "cells": [
    {
      "cell_type": "markdown",
      "metadata": {
        "id": "view-in-github",
        "colab_type": "text"
      },
      "source": [
        "<a href=\"https://colab.research.google.com/github/rangelda/EBAC/blob/main/m%C3%B3dulo_4_arquivos_e_fun%C3%A7%C3%B5es_Leitura.ipynb\" target=\"_parent\"><img src=\"https://colab.research.google.com/assets/colab-badge.svg\" alt=\"Open In Colab\"/></a>"
      ]
    },
    {
      "cell_type": "markdown",
      "source": [
        "## Aula 1\n",
        "\n",
        "**Leitura** \n",
        "\n",
        "Leitura é um processo **passivo**\n",
        "\n",
        "declarar funções - trechos de código que podem ser reutilizados\n",
        "-\n",
        "\n",
        "escopo - onde a variável foi definida e o caminho para seu acesso\n",
        "-\n",
        "\n",
        "Código exemplo - específico do google collab"
      ],
      "metadata": {
        "id": "IgDPaOW_Icch"
      }
    },
    {
      "cell_type": "code",
      "execution_count": 6,
      "metadata": {
        "colab": {
          "base_uri": "https://localhost:8080/"
        },
        "id": "FTWJpzT2ISew",
        "outputId": "620ca0e5-bac1-4de3-8deb-f8a1eb5afcea"
      },
      "outputs": [
        {
          "output_type": "stream",
          "name": "stdout",
          "text": [
            "Overwriting random.csv\n"
          ]
        }
      ],
      "source": [
        "%%writefile random.csv\n",
        "folios,year,place,language,tag\n",
        "450,1109,Cluny,french,MS04\n",
        "236,875,Northumbria,latim,NMS21\n",
        "120,1200,Northumbria,french,MS33\n"
      ]
    },
    {
      "cell_type": "markdown",
      "source": [
        "## with/open\n",
        "\n",
        "código para leitura dos arquivos"
      ],
      "metadata": {
        "id": "D_8QagOcJTUN"
      }
    },
    {
      "cell_type": "code",
      "source": [
        "with open(file='<caminho do arquivo>', mode='<modo de leitura>', encoding='<decodificador>') as <apelido>:\n",
        "  bloco de código"
      ],
      "metadata": {
        "colab": {
          "base_uri": "https://localhost:8080/",
          "height": 130
        },
        "id": "3RZB2fjYKPeQ",
        "outputId": "57a9914b-bea4-41a2-be6e-792b47a1c8a4"
      },
      "execution_count": 7,
      "outputs": [
        {
          "output_type": "error",
          "ename": "SyntaxError",
          "evalue": "ignored",
          "traceback": [
            "\u001b[0;36m  File \u001b[0;32m\"<ipython-input-7-6392991b85cd>\"\u001b[0;36m, line \u001b[0;32m1\u001b[0m\n\u001b[0;31m    with open(file='<caminho do arquivo>', mode='<modo de leitura>', encoding='<decodificador>') as <apelido>:\u001b[0m\n\u001b[0m                                                                                                    ^\u001b[0m\n\u001b[0;31mSyntaxError\u001b[0m\u001b[0;31m:\u001b[0m invalid syntax\n"
          ]
        }
      ]
    },
    {
      "cell_type": "markdown",
      "source": [
        "*UTF-8* is one of the most commonly used encodings, and Python often defaults to using it.\n",
        "-\n",
        "\n",
        "UTF stands for **“Unicode Transformation Format”**, and the '8' means that 8-bit values are used in the encoding.\n",
        "-\n",
        "\n",
        "(There are also UTF-16 and UTF-32 encodings, but they are less frequently used than UTF-8.)"
      ],
      "metadata": {
        "id": "5XTpldP9LclP"
      }
    },
    {
      "cell_type": "markdown",
      "source": [
        "## read"
      ],
      "metadata": {
        "id": "F7OJaNdNMXjy"
      }
    },
    {
      "cell_type": "code",
      "source": [
        "conteudo = None\n",
        "\n",
        "with open(file='./random.csv', mode='r', encoding='utf8') as arquivo:\n",
        "  conteudo = arquivo.read()\n",
        "\n",
        "print(conteudo)"
      ],
      "metadata": {
        "colab": {
          "base_uri": "https://localhost:8080/"
        },
        "id": "4PmXNQ-aL2XD",
        "outputId": "a3285f31-5956-41a2-8884-8eb8f5ddf9a5"
      },
      "execution_count": 8,
      "outputs": [
        {
          "output_type": "stream",
          "name": "stdout",
          "text": [
            "folios,year,place,language,tag\n",
            "450,1109,Cluny,french,MS04\n",
            "236,875,Northumbria,latim,NMS21\n",
            "120,1200,Northumbria,french,MS33\n"
          ]
        }
      ]
    },
    {
      "cell_type": "markdown",
      "source": [
        "## readline\n",
        "\n",
        "**while** avalia se a condição é verdadeira ou não e condiciona a repetição do laço"
      ],
      "metadata": {
        "id": "i3cXO0LLMbDn"
      }
    },
    {
      "cell_type": "code",
      "source": [
        "conteudo = []\n",
        "\n",
        "with open(file='./random.csv', mode='r', encoding='utf8') as arquivo:\n",
        "  linha = arquivo.readline() # lê a primeira linha\n",
        "  while linha:\n",
        "    conteudo.append(linha)\n",
        "    linha = arquivo.readline() # lê uma nova linha, se a linha não existir, salva o valor None\n",
        "\n",
        "print(conteudo)\n",
        "\n",
        "for linha in conteudo:\n",
        "  print(linha)"
      ],
      "metadata": {
        "colab": {
          "base_uri": "https://localhost:8080/"
        },
        "id": "M6j6Jo34MhVV",
        "outputId": "7d952936-1df5-430e-e442-f342e752515d"
      },
      "execution_count": 9,
      "outputs": [
        {
          "output_type": "stream",
          "name": "stdout",
          "text": [
            "['folios,year,place,language,tag\\n', '450,1109,Cluny,french,MS04\\n', '236,875,Northumbria,latim,NMS21\\n', '120,1200,Northumbria,french,MS33']\n",
            "folios,year,place,language,tag\n",
            "\n",
            "450,1109,Cluny,french,MS04\n",
            "\n",
            "236,875,Northumbria,latim,NMS21\n",
            "\n",
            "120,1200,Northumbria,french,MS33\n"
          ]
        }
      ]
    },
    {
      "cell_type": "code",
      "source": [
        "years = []\n",
        "\n",
        "with open(file='./random.csv', mode='r', encoding='utf8') as arquivo:\n",
        "  linha = arquivo.readline() # lê o cabeçalho\n",
        "  linha = arquivo.readline() # lê a primeira linha\n",
        "  while linha:\n",
        "    linha_separada = linha.split(sep=',') # quebra a string nas virgulas e salva os resultados em uma lista\n",
        "    year = linha_separada[0] # seleciona o primeiro elemento da lista\n",
        "    year = int(year) # converte o valor de string para integer (inteiro)\n",
        "    years.append(year) # salva o valor na lista de years\n",
        "    linha = arquivo.readline() # lê uma nova linha, se a linha não existir, salva o valor None\n",
        "\n",
        "print(years)"
      ],
      "metadata": {
        "colab": {
          "base_uri": "https://localhost:8080/"
        },
        "id": "ibvDzPppObyp",
        "outputId": "b49e2dad-90ab-4180-bb76-b78303eb7252"
      },
      "execution_count": 14,
      "outputs": [
        {
          "output_type": "stream",
          "name": "stdout",
          "text": [
            "[450, 236, 120]\n"
          ]
        }
      ]
    }
  ]
}