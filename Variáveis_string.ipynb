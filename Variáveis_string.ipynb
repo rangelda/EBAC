{
  "nbformat": 4,
  "nbformat_minor": 0,
  "metadata": {
    "colab": {
      "name": "Variáveis string",
      "provenance": [],
      "collapsed_sections": [],
      "authorship_tag": "ABX9TyN8vx1LMUyGERn7zyM8cKsq",
      "include_colab_link": true
    },
    "kernelspec": {
      "name": "python3",
      "display_name": "Python 3"
    },
    "language_info": {
      "name": "python"
    }
  },
  "cells": [
    {
      "cell_type": "markdown",
      "metadata": {
        "id": "view-in-github",
        "colab_type": "text"
      },
      "source": [
        "<a href=\"https://colab.research.google.com/github/rangelda/EBAC/blob/main/Vari%C3%A1veis_string.ipynb\" target=\"_parent\"><img src=\"https://colab.research.google.com/assets/colab-badge.svg\" alt=\"Open In Colab\"/></a>"
      ]
    },
    {
      "cell_type": "markdown",
      "source": [
        "Motivação\n",
        "\n",
        "empresa adquire startup de logística\n",
        "Endereços comuns a ambas\n",
        "Latitude e longitude\n",
        "empresa ( lat e lon)\n",
        "startup (latlon)\n"
      ],
      "metadata": {
        "id": "NMDvELNN06E1"
      }
    },
    {
      "cell_type": "markdown",
      "source": [
        "Em Python\n",
        "\n",
        "Strings marcadas sempre como **str**\n",
        "\n",
        "Com aspas comuns ou duplas\n",
        "\n",
        "**Fatiamento**\n",
        "\n",
        "Pode ser encarada como uma **lista de caracteres**\n",
        "\n",
        "Caracteres possuem um indicador/posição, tornando a lista **indexada**\n",
        "\n",
        "Começa sempre da posição 0"
      ],
      "metadata": {
        "id": "PTFvdAg81VId"
      }
    },
    {
      "cell_type": "code",
      "source": [
        "op = 'concatenação'\n",
        "\n",
        "nome = 'Leila'\n",
        "sobrenome = 'Geroto'\n",
        "\n",
        "apres = 'Oi, eu sou ' + nome + ' ' + sobrenome + '.'\n",
        "print(op)\n",
        "print(apres)"
      ],
      "metadata": {
        "colab": {
          "base_uri": "https://localhost:8080/"
        },
        "id": "olLTjqmH1baO",
        "outputId": "91dcd979-fc78-4b95-af15-68f2ebcc6260"
      },
      "execution_count": null,
      "outputs": [
        {
          "output_type": "stream",
          "name": "stdout",
          "text": [
            "concatenação\n",
            "Oi, eu sou Leila Geroto.\n"
          ]
        }
      ]
    },
    {
      "cell_type": "markdown",
      "source": [
        "formatação é uma outra forma de concatenar strings."
      ],
      "metadata": {
        "id": "cMMng7-NOsRG"
      }
    },
    {
      "cell_type": "code",
      "source": [
        "nome = 'Leila'\n",
        "sobrenome = 'Geroto'\n",
        "\n",
        "apres = f'Oi, eu sou {nome} {sobrenome}.'\n",
        "print(apres)"
      ],
      "metadata": {
        "colab": {
          "base_uri": "https://localhost:8080/"
        },
        "id": "R0kF_RDk2oyY",
        "outputId": "c7d710d2-3051-4875-a3c6-d781bf0e52ec"
      },
      "execution_count": null,
      "outputs": [
        {
          "output_type": "stream",
          "name": "stdout",
          "text": [
            "Oi, eu sou Leila Geroto.\n"
          ]
        }
      ]
    },
    {
      "cell_type": "code",
      "source": [
        "op = 'fatiamento'\n",
        "\n",
        "email = 'lerangelda@protonmail.com'\n",
        "\n",
        "print(op)\n",
        "print('4: ' + email[4])\n",
        "print('8: ' + email[8])"
      ],
      "metadata": {
        "colab": {
          "base_uri": "https://localhost:8080/"
        },
        "id": "GTbqrFMl3497",
        "outputId": "232d952e-e7ee-481c-ac56-de49427d4ead"
      },
      "execution_count": null,
      "outputs": [
        {
          "output_type": "stream",
          "name": "stdout",
          "text": [
            "fatiamento\n",
            "4: n\n",
            "8: d\n"
          ]
        }
      ]
    },
    {
      "cell_type": "markdown",
      "source": [
        "**Utilidade do fatiamento**\n",
        "\n",
        "**principalmente fatiamento por intervalo, para extrair informação indexada no texto**"
      ],
      "metadata": {
        "id": "pQmLo2Cp5l1l"
      }
    },
    {
      "cell_type": "code",
      "source": [
        "op = 'fatiamento intervalo'\n",
        "\n",
        "email = 'lerangelda@protonmail.com'\n",
        "\n",
        "user = email[0:10]\n",
        "server = email[11:25]\n",
        "\n",
        "print(op)\n",
        "print(user)\n",
        "print(server)"
      ],
      "metadata": {
        "colab": {
          "base_uri": "https://localhost:8080/"
        },
        "id": "y1Ww4Igm5xsK",
        "outputId": "fd65196c-31ee-48f1-ebab-040a50a90b82"
      },
      "execution_count": null,
      "outputs": [
        {
          "output_type": "stream",
          "name": "stdout",
          "text": [
            "fatiamento intervalo\n",
            "lerangelda\n",
            "protonmail.com\n"
          ]
        }
      ]
    },
    {
      "cell_type": "markdown",
      "source": [
        "**Métodos**\n",
        "\n",
        "funções exclusivas para trabalhar com strings\n",
        "a substituição, localização e formatação do texto é muito utilizada em casos de integração de sistemas (sistemas diferentes nomeiam e marcam suas variáveis de modos diferentes, exigindo uma normalização)"
      ],
      "metadata": {
        "id": "fBu9JGyl6onB"
      }
    },
    {
      "cell_type": "code",
      "source": [
        "nome = 'Leila Rangel Silva Geroto, 35 anos, 1.75 metros'\n",
        "\n",
        "# maiusculo:string.upper()\n",
        "print(nome.upper())\n",
        "\n",
        "# posicao: string.find(substring)\n",
        "posicao = nome.find('35')\n",
        "print(posicao)\n",
        "\n",
        "# substituição: string.replace(antigo, novo)\n",
        "print(nome.replace('Rangel Silva', 'R.S.'))\n",
        "\n"
      ],
      "metadata": {
        "colab": {
          "base_uri": "https://localhost:8080/"
        },
        "id": "3huQ6Wm47UXr",
        "outputId": "eaf2d5d5-2cbd-4447-e326-46bb7b2267e6"
      },
      "execution_count": null,
      "outputs": [
        {
          "output_type": "stream",
          "name": "stdout",
          "text": [
            "LEILA RANGEL SILVA GEROTO, 35 ANOS, 1.75 METROS\n",
            "27\n",
            "Leila R.S. Geroto, 35 anos, 1.75 metros\n"
          ]
        }
      ]
    },
    {
      "cell_type": "code",
      "source": [
        "op = 'conversão'\n",
        "print(op)\n",
        "altura = 1.75\n",
        "print(type(altura))\n",
        "\n",
        "altura = str(altura)\n",
        "\n",
        "print(altura)\n",
        "print(type(altura))\n",
        "\n"
      ],
      "metadata": {
        "colab": {
          "base_uri": "https://localhost:8080/"
        },
        "id": "sc3kdVi8A-0i",
        "outputId": "f51eed67-5542-4dce-fd9b-8267eba42456"
      },
      "execution_count": null,
      "outputs": [
        {
          "output_type": "stream",
          "name": "stdout",
          "text": [
            "conversão\n",
            "<class 'float'>\n",
            "1.75\n",
            "<class 'str'>\n"
          ]
        }
      ]
    },
    {
      "cell_type": "code",
      "source": [
        "fat = 'R$ 35 mi'\n",
        "\n",
        "print(fat)\n",
        "print(type(fat))\n",
        "\n",
        "fat = int(fat[3:5])\n",
        "print(fat)\n",
        "print(type(fat))\n"
      ],
      "metadata": {
        "colab": {
          "base_uri": "https://localhost:8080/"
        },
        "id": "1IuzyEPrCtrs",
        "outputId": "7e936995-0ad1-4b70-b0e3-273b923c318a"
      },
      "execution_count": null,
      "outputs": [
        {
          "output_type": "stream",
          "name": "stdout",
          "text": [
            "R$ 35 mi\n",
            "<class 'str'>\n",
            "35\n",
            "<class 'int'>\n"
          ]
        }
      ]
    },
    {
      "cell_type": "markdown",
      "source": [
        "Motivação\n",
        "\n",
        "empresa adquire startup de logística\n",
        "\n",
        "Endereços comuns a ambas\n",
        "\n",
        "Latitude e longitude\n",
        "\n",
        "empresa ( lat e lon)\n",
        "\n",
        "startup (latlon)"
      ],
      "metadata": {
        "id": "UcRv-4JfDglq"
      }
    },
    {
      "cell_type": "code",
      "source": [
        "\n",
        "# sua empresa\n",
        "lat = '-22.005320'\n",
        "lon = '-47.891040'\n",
        "\n",
        "# startup adquirida\n",
        "latlon = '-22.005320;-47.891040'\n",
        "\n",
        "posição_char_div = latlon.find(';')\n",
        "print(posição_char_div)\n",
        "\n",
        "lat_startup = latlon[0:posição_char_div]\n",
        "print(lat_startup)\n",
        "\n",
        "lon_startup = latlon[posição_char_div+1:len(latlon)]\n",
        "print(lon_startup)\n",
        "\n",
        "op = 'normalizar str'\n",
        "print(op)\n",
        "\n",
        "latlon = 'abc;xyz'\n",
        "\n",
        "lat_startup = latlon[0:posição_char_div]\n",
        "print(lat_startup)\n",
        "\n",
        "lon_startup = latlon[posição_char_div+1:len(latlon)]\n",
        "print(lon_startup)\n"
      ],
      "metadata": {
        "colab": {
          "base_uri": "https://localhost:8080/"
        },
        "id": "DF4SRTwKDjsX",
        "outputId": "8656dc0e-aa91-4d54-8d1b-caf16c88e251"
      },
      "execution_count": null,
      "outputs": [
        {
          "output_type": "stream",
          "name": "stdout",
          "text": [
            "10\n",
            "-22.005320\n",
            "-47.891040\n",
            "normalizar str\n",
            "abc;xyz\n",
            "\n"
          ]
        }
      ]
    },
    {
      "cell_type": "code",
      "metadata": {
        "id": "tXYl5Qd4zPUR"
      },
      "source": [
        ""
      ],
      "execution_count": null,
      "outputs": []
    }
  ]
}