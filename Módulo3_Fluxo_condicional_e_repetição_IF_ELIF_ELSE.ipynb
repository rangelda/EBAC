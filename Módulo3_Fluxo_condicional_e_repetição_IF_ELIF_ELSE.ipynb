{
  "nbformat": 4,
  "nbformat_minor": 0,
  "metadata": {
    "colab": {
      "name": "Módulo3-Fluxo condicional e repetição - IF/ELIF/ELSE",
      "provenance": [],
      "authorship_tag": "ABX9TyN0X52RMjL5lH/6/+l5MiP2"
    },
    "kernelspec": {
      "name": "python3",
      "display_name": "Python 3"
    },
    "language_info": {
      "name": "python"
    }
  },
  "cells": [
    {
      "cell_type": "markdown",
      "source": [
        "**IF/ELSE**\n",
        "\n",
        "Tomar decisões e desviar o fluxo lógico do código, com base em uma comparação\n",
        "\\\n",
        "Operadores condicionais\n",
        "\n",
        "```python\n",
        " if <booleano / comparação lógica> == True:\n",
        "  <execute este código>\n",
        "else:\n",
        "  <senão execute este código>\n",
        "  ```"
      ],
      "metadata": {
        "id": "wc25S95mHU3S"
      }
    },
    {
      "cell_type": "code",
      "execution_count": null,
      "metadata": {
        "id": "P9vhkDlCC9a_",
        "colab": {
          "base_uri": "https://localhost:8080/"
        },
        "outputId": "7277f1bd-7f9e-44d6-e09b-fb8df40a086f"
      },
      "outputs": [
        {
          "output_type": "stream",
          "name": "stdout",
          "text": [
            "Falso\n"
          ]
        }
      ],
      "source": [
        "if False:\n",
        "  print(\"Verdadeiro\")\n",
        "else:\n",
        "  print(\"Falso\")"
      ]
    },
    {
      "cell_type": "markdown",
      "source": [
        "Boa prática: escrever as booleanas como perguntas\n",
        "\\\n",
        "Ex:\n",
        "\\\n",
        "pode efetuar X? true/false\n",
        "\\\n",
        "usuário cadastrado? true/false"
      ],
      "metadata": {
        "id": "7rWoWtuRIdM-"
      }
    },
    {
      "cell_type": "code",
      "source": [
        "codigo_de_seguranca = '010'\n",
        "codigo_de_seguranca_cadastro = '010'\n",
        "\n",
        "pode_efetuar_pagamento = codigo_de_seguranca == codigo_de_seguranca_cadastro\n",
        "print(pode_efetuar_pagamento)\n",
        "\n",
        "if pode_efetuar_pagamento:\n",
        "  print(\"Pagamento efetuado\")\n",
        "else:\n",
        "  print(\"Erro: Código de segurança inválido\")\n",
        "\n",
        "if codigo_de_seguranca == codigo_de_seguranca_cadastro:\n",
        "   print(\"Pagamento efetuado\")\n",
        "else:\n",
        "   print(\"Erro: Código de segurança inválido\")"
      ],
      "metadata": {
        "colab": {
          "base_uri": "https://localhost:8080/"
        },
        "id": "Ujxm-I3wJCT2",
        "outputId": "be6e0a26-0e16-4ad5-9f9f-851d7f147c55"
      },
      "execution_count": null,
      "outputs": [
        {
          "output_type": "stream",
          "name": "stdout",
          "text": [
            "True\n",
            "Pagamento efetuado\n",
            "Pagamento efetuado\n"
          ]
        }
      ]
    },
    {
      "cell_type": "markdown",
      "source": [
        "Operadores OR/END/NOT\n",
        "\\\n",
        "A tabela da verdade é feita para sistematizar as operações e relações entre os operadores"
      ],
      "metadata": {
        "id": "HEP6guOYJnii"
      }
    },
    {
      "cell_type": "markdown",
      "source": [
        "| CÓDIGO        | SENHA        | | | CÓDIGO OR SENHA   | | CÓDIGO AND SENHA  | | NOT CÓDIGO    |\n",
        "|----------|----------|-|-|----------|-|----------|-|----------|\n",
        "| **TRUE** | **TRUE** | | | **TRUE** | | **TRUE** | | FALSE    |\n",
        "| **TRUE** | FALSE    | | | **TRUE** | | FALSE    | | FALSE    |\n",
        "| FALSE    | FALSE    | | | FALSE    | | FALSE    | | **TRUE** |\n",
        "| FALSE    | **TRUE** | | | **TRUE** | | FALSE    | | **TRUE** |"
      ],
      "metadata": {
        "id": "KuAHmsaXJs9w"
      }
    },
    {
      "cell_type": "markdown",
      "source": [
        "**Considerar** quais as relações lógicas entre as infos, para determinar como será expresso no código.\n",
        "\\\n",
        "Como as perguntas serão feitas e expressas?\n",
        "\\\n",
        "Ex:\n",
        "\\\n",
        "Dados != (diferentes)  "
      ],
      "metadata": {
        "id": "3lNBf-TmKvJa"
      }
    },
    {
      "cell_type": "markdown",
      "source": [
        "Separação das operações ou comparações lógicas deve ser feita com parênteses, por boa prática de limpeza do código.\n",
        "\n",
        "## **IF/ELIF/ELSE**\n",
        "\n",
        "```python\n",
        "if <1º booleano / 1ª comparação lógica> == True:\n",
        "  <execute este código se a primeira condição for verdade>\n",
        "elif <2º booleano / 2ª comparação lógica> == True:\n",
        "  <execute este código se a segunda condição for verdade>\n",
        "else:\n",
        "  <senão execute este código>\n",
        "```"
      ],
      "metadata": {
        "id": "PYzNhk2lKRDR"
      }
    },
    {
      "cell_type": "markdown",
      "source": [
        "| CÓDIGO        | SENHA        | | | CÓDIGO AND SENHA  | MENSAGEM |\n",
        "|----------|----------|-|-|----------|-|\n",
        "| **TRUE** | **TRUE** | | | **TRUE** | Pagamento efetuado |\n",
        "| **TRUE** | FALSE    | | | FALSE    | Erro: Senha inválida |\n",
        "| FALSE    | FALSE    | | | FALSE    | Erro: Código de segurança e senha inválidos |\n",
        "| FALSE    | **TRUE** | | | FALSE    | Erro: Código de segurança inválido |"
      ],
      "metadata": {
        "id": "bS9Dt4k7LnNY"
      }
    },
    {
      "cell_type": "code",
      "source": [
        "codigo_de_seguranca = '802'\n",
        "codigo_de_seguranca_cadastro = '852'\n",
        "\n",
        "senha = '7703'\n",
        "senha_cadastro = '7783'\n",
        "\n",
        "if (codigo_de_seguranca == codigo_de_seguranca_cadastro) & (senha == senha_cadastro):\n",
        "  print(\"Pagamento efetuado\")\n",
        "\n",
        "elif (codigo_de_seguranca != codigo_de_seguranca_cadastro) & (senha == senha_cadastro):\n",
        "  print(\"Erro: Código de segurança inválido\")\n",
        "\n",
        "elif (codigo_de_seguranca == codigo_de_seguranca_cadastro) & (senha != senha_cadastro):\n",
        "  print(\"Erro: Senha inválida inválida\")\n",
        "\n",
        "else:\n",
        "  print(\"Erro: Código de segurança e senha inválidos\")"
      ],
      "metadata": {
        "colab": {
          "base_uri": "https://localhost:8080/"
        },
        "id": "dY3kyYmWKjd9",
        "outputId": "dd72b5ee-97d4-4b02-dbc7-9bd087feb11b"
      },
      "execution_count": null,
      "outputs": [
        {
          "output_type": "stream",
          "name": "stdout",
          "text": [
            "Erro: Código de segurança e senha inválidos\n"
          ]
        }
      ]
    }
  ]
}