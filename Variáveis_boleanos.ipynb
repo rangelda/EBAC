{
  "nbformat": 4,
  "nbformat_minor": 0,
  "metadata": {
    "colab": {
      "name": "Variáveis boleanos",
      "provenance": [],
      "authorship_tag": "ABX9TyOlSxLaqqpeY8V09dlxSndb",
      "include_colab_link": true
    },
    "kernelspec": {
      "name": "python3",
      "display_name": "Python 3"
    },
    "language_info": {
      "name": "python"
    }
  },
  "cells": [
    {
      "cell_type": "markdown",
      "metadata": {
        "id": "view-in-github",
        "colab_type": "text"
      },
      "source": [
        "<a href=\"https://colab.research.google.com/github/rangelda/EBAC/blob/main/Vari%C3%A1veis_boleanos.ipynb\" target=\"_parent\"><img src=\"https://colab.research.google.com/assets/colab-badge.svg\" alt=\"Open In Colab\"/></a>"
      ]
    },
    {
      "cell_type": "markdown",
      "metadata": {
        "id": "jayz6OAaerA1"
      },
      "source": [
        "Em *websites* (redes sociais, *e-commerce*, corporativos, etc.) é comum o uso de sistemas de controle de acesso, o famoso *login*. Em geral, nestes sistemas um usuário fornece dois dados: `usuario` e `senha`:"
      ]
    },
    {
      "cell_type": "code",
      "source": [
        "usuario = 'leila.rangelda'\n",
        "senha = 'rangelda86'\n",
        "\n",
        "\n",
        "usuario_cadastro = 'leila.rangelda'\n",
        "senha_cadastro = 'rangelda88'"
      ],
      "metadata": {
        "id": "iVq5i1d0UPFv"
      },
      "execution_count": null,
      "outputs": []
    },
    {
      "cell_type": "markdown",
      "source": [
        "valores lógicos - true ou false. São palavras -> reservadas <- que não podem ser utilizadas na linguagem. Sendo funções nativas da linguagem.\n",
        "\n",
        "True e false são resultados de comparações lógicas.\n",
        "Operadores sendo:\n",
        "\n",
        "* maior>\n",
        "* menor<\n",
        "* igual==\n",
        "* maior igual>=\n",
        "* menor igual<=\n",
        "* diferente!\n",
        "\n"
      ],
      "metadata": {
        "id": "bsAZytP0UlNA"
      }
    },
    {
      "cell_type": "code",
      "source": [
        "verdadeiro = True\n",
        "\n",
        "falso = False\n",
        "print(type(True))"
      ],
      "metadata": {
        "colab": {
          "base_uri": "https://localhost:8080/"
        },
        "id": "imNwt8CLUz8l",
        "outputId": "333c8269-4905-42bb-ef54-f6c51e22b85f"
      },
      "execution_count": null,
      "outputs": [
        {
          "output_type": "stream",
          "name": "stdout",
          "text": [
            "<class 'bool'>\n"
          ]
        }
      ]
    },
    {
      "cell_type": "markdown",
      "source": [
        "**Operações**\n",
        "\n",
        "Operações de variáveis boleanas:\n",
        "\n",
        "* |(operador ou)\n",
        "* &(operador e)\n",
        "* not(operador não)\n",
        "\n"
      ],
      "metadata": {
        "id": "ZcA17wPSXB-O"
      }
    },
    {
      "cell_type": "markdown",
      "metadata": {
        "id": "CHn4_ahDIAjz"
      },
      "source": [
        "| A        | B        | | | A OR B   | | A AND B  | | NOT A    |\n",
        "|----------|----------|-|-|----------|-|----------|-|----------|\n",
        "| **TRUE** | **TRUE** | | | **TRUE** | | **TRUE** | | FALSE    |\n",
        "| **TRUE** | FALSE    | | | **TRUE** | | FALSE    | | FALSE    |\n",
        "| FALSE    | FALSE    | | | FALSE    | | FALSE    | | **TRUE** |\n",
        "| FALSE    | **TRUE** | | | **TRUE** | | FALSE    | | **TRUE** |"
      ]
    },
    {
      "cell_type": "markdown",
      "source": [
        "**Conversão de variáveis de tipo bool**\n",
        "\n",
        "conversão de tipos numéricos e strings vazias são convertidas para valor False"
      ],
      "metadata": {
        "id": "AWazOOVoYm5M"
      }
    },
    {
      "cell_type": "code",
      "source": [
        "idade = 19\n",
        "tipo_sangue = 'O-'\n",
        "filhos = 0\n",
        "telefone_fixo = None\n",
        "telefone_fixo = ''\n",
        "\n",
        "print(bool(idade))\n",
        "print(bool(tipo_sangue))\n",
        "print(bool(filhos))\n",
        "print(bool(telefone_fixo))\n",
        "print(bool(telefone_fixo))"
      ],
      "metadata": {
        "colab": {
          "base_uri": "https://localhost:8080/"
        },
        "id": "n7Rim8xiYw0_",
        "outputId": "3bc44d97-84cd-45f9-a2db-7c1c5d850074"
      },
      "execution_count": null,
      "outputs": [
        {
          "output_type": "stream",
          "name": "stdout",
          "text": [
            "True\n",
            "True\n",
            "False\n",
            "False\n",
            "False\n"
          ]
        }
      ]
    },
    {
      "cell_type": "code",
      "source": [
        "usuario = 'leila.rangelda'\n",
        "senha = 'rangelda86'\n",
        "\n",
        "\n",
        "usuario_cadastro = 'leila.rangelda'\n",
        "senha_cadastro = 'rangelda88'\n",
        "\n",
        "usuario_igual = usuario == usuario_cadastro\n",
        "senha_igual = senha == senha_cadastro\n",
        "\n",
        "print(usuario_igual)\n",
        "print(senha_igual)\n",
        "\n",
        "conceder_acesso = usuario_igual & senha_igual\n",
        "print(conceder_acesso)"
      ],
      "metadata": {
        "colab": {
          "base_uri": "https://localhost:8080/"
        },
        "id": "PNGlKGyYZWRi",
        "outputId": "aac5eaf6-9ef4-4fe8-f2fc-c05a70e5949c"
      },
      "execution_count": null,
      "outputs": [
        {
          "output_type": "stream",
          "name": "stdout",
          "text": [
            "True\n",
            "False\n",
            "False\n"
          ]
        }
      ]
    },
    {
      "cell_type": "markdown",
      "source": [
        "*Decidir concessão de acesso*\n",
        "\n",
        "UI = usuario igual (true)\n",
        "\n",
        "SI = senha igual (false)\n",
        "\n",
        "CA = conceder acesso (true ou false)"
      ],
      "metadata": {
        "id": "3cGsZTN_ZpYW"
      }
    }
  ]
}