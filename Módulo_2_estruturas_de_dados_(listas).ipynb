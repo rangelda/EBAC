{
  "nbformat": 4,
  "nbformat_minor": 0,
  "metadata": {
    "colab": {
      "name": "Módulo 2 estruturas de dados (listas)",
      "provenance": [],
      "authorship_tag": "ABX9TyN2SeX3R0pCuMaEi9Jlujnf",
      "include_colab_link": true
    },
    "kernelspec": {
      "name": "python3",
      "display_name": "Python 3"
    },
    "language_info": {
      "name": "python"
    }
  },
  "cells": [
    {
      "cell_type": "markdown",
      "metadata": {
        "id": "view-in-github",
        "colab_type": "text"
      },
      "source": [
        "<a href=\"https://colab.research.google.com/github/rangelda/EBAC/blob/main/M%C3%B3dulo_2_estruturas_de_dados_(listas).ipynb\" target=\"_parent\"><img src=\"https://colab.research.google.com/assets/colab-badge.svg\" alt=\"Open In Colab\"/></a>"
      ]
    },
    {
      "cell_type": "markdown",
      "source": [
        "Estruturas: formas de agrupamento das variáveis\n",
        "\n",
        "Lista: sequência **mutável** e **ordenada** de valores.\n",
        "Conjuntos:\n",
        "Dicionários: \n",
        "\n",
        "Tipo: list\n",
        "\n",
        "listas agrupam tipos diferentes de variáveis"
      ],
      "metadata": {
        "id": "IuIZWI5Dbvzy"
      }
    },
    {
      "cell_type": "code",
      "execution_count": null,
      "metadata": {
        "id": "O_3c_903a4i7",
        "colab": {
          "base_uri": "https://localhost:8080/"
        },
        "outputId": "add67fe9-d288-4799-e6cf-1b9a1dc5b6a3"
      },
      "outputs": [
        {
          "output_type": "stream",
          "name": "stdout",
          "text": [
            "['André Perez', 20, 'andre.perez', 'andre123', 'andre.perez@gmail.com', 723.15, True]\n",
            "<class 'list'>\n"
          ]
        }
      ],
      "source": [
        "idade = 20\n",
        "saldo_em_conta = 723.15\n",
        "usuario_loggedin = True\n",
        "\n",
        "usuario_web = ['André Perez', idade, 'andre.perez', 'andre123', 'andre.perez@gmail.com', saldo_em_conta, usuario_loggedin]\n",
        "\n",
        "print(usuario_web)\n",
        "print(type(usuario_web))"
      ]
    },
    {
      "cell_type": "markdown",
      "source": [
        "**Concatenação**\n",
        "\n",
        "operador de concatenação conecta duas listas em uma única."
      ],
      "metadata": {
        "id": "6WHVXIHRQ4JJ"
      }
    },
    {
      "cell_type": "code",
      "source": [
        "insular = ['kells', 'lindisfarne']\n",
        "continente = ['bobbio', 'cluny']\n",
        "\n",
        "medieval = insular + continente\n",
        "print(medieval)"
      ],
      "metadata": {
        "colab": {
          "base_uri": "https://localhost:8080/"
        },
        "id": "HWfGTmSxc277",
        "outputId": "8ba9a181-f5e5-4d4b-ba1c-851dfeb6e75c"
      },
      "execution_count": null,
      "outputs": [
        {
          "output_type": "stream",
          "name": "stdout",
          "text": [
            "['kells', 'lindisfarne', 'bobbio', 'cluny']\n"
          ]
        }
      ]
    },
    {
      "cell_type": "markdown",
      "source": [
        "*Slicing*\n",
        "\n",
        "semelhante à operação com strings\n",
        "para print, realizar conversão da variável para *str*"
      ],
      "metadata": {
        "id": "c1Y8cGzbRchg"
      }
    },
    {
      "cell_type": "code",
      "source": [
        "insular = ['kells', 'lindisfarne', 'nortumbria']\n",
        "continente = ['bobbio', 'cluny', 'valencia']\n",
        "\n",
        "medieval = insular + continente\n",
        "print(medieval)\n",
        "\n",
        "manuscrito_insular = medieval[0:3]\n",
        "print('insular: ' + str(manuscrito_insular))"
      ],
      "metadata": {
        "colab": {
          "base_uri": "https://localhost:8080/"
        },
        "id": "gdd5_cZvRhnw",
        "outputId": "571f5277-827a-4ae4-c338-61997fbe3ef2"
      },
      "execution_count": null,
      "outputs": [
        {
          "output_type": "stream",
          "name": "stdout",
          "text": [
            "['kells', 'lindisfarne', 'nortumbria', 'bobbio', 'cluny', 'valencia']\n",
            "insular: ['kells', 'lindisfarne', 'nortumbria']\n"
          ]
        }
      ]
    },
    {
      "cell_type": "code",
      "source": [
        "manuscritos = ['MS58', 'MS02', 'MS6', 'MS90']\n",
        "print(manuscritos)\n",
        "\n",
        "manuscritos[3] = 'MS45'\n",
        "\n",
        "# inserir um elemento sem substituir: list.insert(index, val)\n",
        "manuscritos.insert(0, 'MS44')\n",
        "print(manuscritos)\n",
        "\n",
        "# inserir um elemento no fim da lista: list.append(val)\n",
        "manuscritos.append('MS87')\n",
        "print(manuscritos)\n",
        "\n",
        "# remover um elemento pelo valor: list.remove(val)\n",
        "manuscritos.remove('MS58')\n",
        "print(manuscritos)\n",
        "\n",
        "entrada = 'codex seraphinianus'\n",
        "caracteres_entrada = list(entrada)\n",
        "\n",
        "print(entrada)\n",
        "print(caracteres_entrada)"
      ],
      "metadata": {
        "colab": {
          "base_uri": "https://localhost:8080/"
        },
        "id": "SH9_h61VdyMV",
        "outputId": "31e97a75-3973-4416-e5fc-92623a699e53"
      },
      "execution_count": null,
      "outputs": [
        {
          "output_type": "stream",
          "name": "stdout",
          "text": [
            "['MS58', 'MS02', 'MS6', 'MS90']\n",
            "['MS44', 'MS58', 'MS02', 'MS6', 'MS45']\n",
            "['MS44', 'MS58', 'MS02', 'MS6', 'MS45', 'MS87']\n",
            "['MS44', 'MS02', 'MS6', 'MS45', 'MS87']\n",
            "codex seraphinianus\n",
            "['c', 'o', 'd', 'e', 'x', ' ', 's', 'e', 'r', 'a', 'p', 'h', 'i', 'n', 'i', 'a', 'n', 'u', 's']\n"
          ]
        }
      ]
    }
  ]
}