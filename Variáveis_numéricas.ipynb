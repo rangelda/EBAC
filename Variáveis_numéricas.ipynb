{
  "nbformat": 4,
  "nbformat_minor": 0,
  "metadata": {
    "colab": {
      "name": "Variáveis numéricas",
      "provenance": [],
      "collapsed_sections": [],
      "authorship_tag": "ABX9TyPCPIIo7/HYvN4xPQJmY6gO",
      "include_colab_link": true
    },
    "kernelspec": {
      "name": "python3",
      "display_name": "Python 3"
    },
    "language_info": {
      "name": "python"
    }
  },
  "cells": [
    {
      "cell_type": "markdown",
      "metadata": {
        "id": "view-in-github",
        "colab_type": "text"
      },
      "source": [
        "<a href=\"https://colab.research.google.com/github/rangelda/EBAC/blob/main/Vari%C3%A1veis_num%C3%A9ricas.ipynb\" target=\"_parent\"><img src=\"https://colab.research.google.com/assets/colab-badge.svg\" alt=\"Open In Colab\"/></a>"
      ]
    },
    {
      "cell_type": "code",
      "execution_count": null,
      "metadata": {
        "colab": {
          "base_uri": "https://localhost:8080/"
        },
        "id": "jKXjceXtsWQX",
        "outputId": "0d7590fe-cf09-44f6-8645-77b1767de41f"
      },
      "outputs": [
        {
          "output_type": "stream",
          "name": "stdout",
          "text": [
            "leila\n",
            "35\n",
            "<class 'str'>\n",
            "<class 'int'>\n",
            "<class 'float'>\n"
          ]
        }
      ],
      "source": [
        "nome = 'leila'\n",
        "idade = 35\n",
        "print(nome)\n",
        "print(idade)\n",
        "print(type('leila'))\n",
        "print(type(35))\n",
        "print(type(0.04))"
      ]
    },
    {
      "cell_type": "code",
      "source": [
        "qt_itens_carrinho_compra = 0\n",
        "\n",
        "qt_itens_carrinho_compra += 1\n",
        "qt_itens_carrinho_compra += 1\n",
        "\n",
        "print(qt_itens_carrinho_compra)\n",
        "\n",
        "qt_itens_carrinho_compra -=1\n",
        "print(qt_itens_carrinho_compra)"
      ],
      "metadata": {
        "colab": {
          "base_uri": "https://localhost:8080/"
        },
        "id": "5b_jenWNuYdF",
        "outputId": "a9a64fb3-004e-48fe-98b3-5aa886d4d7f2"
      },
      "execution_count": null,
      "outputs": [
        {
          "output_type": "stream",
          "name": "stdout",
          "text": [
            "2\n",
            "1\n"
          ]
        }
      ]
    },
    {
      "cell_type": "code",
      "source": [
        "A = 3\n",
        "B = 2\n",
        "C = A*B\n",
        "print(C)\n",
        "print(type(C))\n",
        "\n",
        "D = 0.25\n",
        "E = A*D\n",
        "print(E)\n",
        "print(type(E))"
      ],
      "metadata": {
        "colab": {
          "base_uri": "https://localhost:8080/"
        },
        "id": "UdCAqimPu9W6",
        "outputId": "6ee0a49f-ccb5-4495-dfed-faec8f40604d"
      },
      "execution_count": null,
      "outputs": [
        {
          "output_type": "stream",
          "name": "stdout",
          "text": [
            "6\n",
            "<class 'int'>\n",
            "0.75\n",
            "<class 'float'>\n"
          ]
        }
      ]
    },
    {
      "cell_type": "code",
      "source": [
        "preço = 47\n",
        "quantidade = 0.340\n",
        "\n",
        "total_pagar = quantidade * preço\n",
        "print(total_pagar)"
      ],
      "metadata": {
        "colab": {
          "base_uri": "https://localhost:8080/"
        },
        "id": "Mm3gQWWtK41C",
        "outputId": "20534375-d268-43de-b474-dd434d09304c"
      },
      "execution_count": null,
      "outputs": [
        {
          "output_type": "stream",
          "name": "stdout",
          "text": [
            "15.98\n"
          ]
        }
      ]
    },
    {
      "cell_type": "markdown",
      "source": [
        "O tipo de variável pode se tornar função (tal como print ou type). No caso da var. numéricas o tipo/função converte o valor (decimal p/inteiro, etc)  Exemplo abaixo:"
      ],
      "metadata": {
        "id": "hxc70wC6L7DC"
      }
    },
    {
      "cell_type": "code",
      "source": [
        "print(int(2.4))\n",
        "print(float(15))\n",
        "print(complex(2))"
      ],
      "metadata": {
        "colab": {
          "base_uri": "https://localhost:8080/"
        },
        "id": "DebbXwDevbGG",
        "outputId": "da92d3e8-b898-45c1-c250-42bd7ed88d4b"
      },
      "execution_count": null,
      "outputs": [
        {
          "output_type": "stream",
          "name": "stdout",
          "text": [
            "2\n",
            "15.0\n",
            "(2+0j)\n"
          ]
        }
      ]
    },
    {
      "cell_type": "code",
      "source": [
        "total_pls = 2500\n",
        "total_d = 15\n",
        "palavras_dia = total_pls / total_d\n",
        "print(palavras_dia)\n",
        "print(int(palavras_dia))"
      ],
      "metadata": {
        "colab": {
          "base_uri": "https://localhost:8080/"
        },
        "id": "j49IEnm0wLXD",
        "outputId": "59db3945-f126-428e-a5eb-d28c919626dd"
      },
      "execution_count": null,
      "outputs": [
        {
          "output_type": "stream",
          "name": "stdout",
          "text": [
            "166.66666666666666\n",
            "166\n"
          ]
        }
      ]
    },
    {
      "cell_type": "markdown",
      "source": [
        "Motivação - valor do ticket de um restaurante se dá pela média do valor das vendas do dia e da quantidade de vendas do dia.\n",
        "\n",
        "*   dia 19 - 153.98  qt vendas - 4\n",
        "*   dia 20 - 167.45  qt vendas - 3\n",
        "*   dia 21 - 213.56  qt vendas - 6"
      ],
      "metadata": {
        "id": "gU4eaNGbJfIT"
      }
    },
    {
      "cell_type": "code",
      "source": [
        "svv_19 = 153.98\n",
        "sqv_19 = 4\n",
        "tkt_19 = svv_19/sqv_19\n",
        "\n",
        "print(tkt_19)\n",
        "\n",
        "svv_20 = 167.45\n",
        "sqv_20 = 3\n",
        "tkt_20 = svv_20/sqv_20\n",
        "\n",
        "print(tkt_20)\n",
        "\n",
        "tkt = (tkt_19+tkt_20)/2\n",
        "print(tkt)"
      ],
      "metadata": {
        "colab": {
          "base_uri": "https://localhost:8080/"
        },
        "id": "CLcCx-p6KvEN",
        "outputId": "6e46c456-2818-44b0-9114-b55158e5e5e9"
      },
      "execution_count": null,
      "outputs": [
        {
          "output_type": "stream",
          "name": "stdout",
          "text": [
            "38.495\n",
            "55.81666666666666\n",
            "47.155833333333334\n"
          ]
        }
      ]
    }
  ]
}