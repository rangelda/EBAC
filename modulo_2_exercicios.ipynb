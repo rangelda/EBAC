{
  "nbformat": 4,
  "nbformat_minor": 0,
  "metadata": {
    "colab": {
      "name": "modulo_2_exercicios.ipynb",
      "provenance": [],
      "collapsed_sections": [],
      "include_colab_link": true
    },
    "kernelspec": {
      "name": "python3",
      "display_name": "Python 3"
    }
  },
  "cells": [
    {
      "cell_type": "markdown",
      "metadata": {
        "id": "view-in-github",
        "colab_type": "text"
      },
      "source": [
        "<a href=\"https://colab.research.google.com/github/rangelda/EBAC/blob/main/modulo_2_exercicios.ipynb\" target=\"_parent\"><img src=\"https://colab.research.google.com/assets/colab-badge.svg\" alt=\"Open In Colab\"/></a>"
      ]
    },
    {
      "cell_type": "markdown",
      "metadata": {
        "id": "KJqp9AANOCtf"
      },
      "source": [
        "<img src=\"https://raw.githubusercontent.com/andre-marcos-perez/ebac-course-utils/main/media/logo/newebac_logo_black_half.png\" alt=\"ebac-logo\">\n",
        "\n",
        "---\n",
        "\n",
        "# **Módulo 02** | Python: Estruturas de Dados\n",
        "Caderno de **Exercícios**<br> \n",
        "Professor [André Perez](https://www.linkedin.com/in/andremarcosperez/)\n",
        "\n",
        "---"
      ]
    },
    {
      "cell_type": "markdown",
      "metadata": {
        "id": "d9jDtUbDOE1-"
      },
      "source": [
        "# **Tópicos**\n",
        "\n",
        "<ol type=\"1\">\n",
        "  <li>Listas;</li>\n",
        "  <li>Conjuntos;</li>\n",
        "  <li>Dicionários.</li>\n",
        "</ol>"
      ]
    },
    {
      "cell_type": "markdown",
      "metadata": {
        "id": "SmoHgt-lwkpD"
      },
      "source": [
        "---"
      ]
    },
    {
      "cell_type": "markdown",
      "metadata": {
        "id": "GABI6OW8OfQ2"
      },
      "source": [
        "# **Exercícios**"
      ]
    },
    {
      "cell_type": "markdown",
      "metadata": {
        "id": "muD1vxozykSC"
      },
      "source": [
        "## 1\\. Listas"
      ]
    },
    {
      "cell_type": "markdown",
      "metadata": {
        "id": "ahrFfCuBxJKs"
      },
      "source": [
        "Criei uma lista chamada `filmes` com o nome dos 10 primeiros filmes mais bem avaliados no site no [IMDB](https://www.imdb.com/chart/top/). Imprima o resultado."
      ]
    },
    {
      "cell_type": "code",
      "metadata": {
        "id": "OgL6Hv3bzOHI",
        "colab": {
          "base_uri": "https://localhost:8080/"
        },
        "outputId": "72919d6a-e730-4cbd-d23e-ab99a0420136"
      },
      "source": [
        "\n",
        "filmes = ['shawshank','godfather','godfatherII','darkknight','12angrymen','schindlers','returnoftheking','pulpfiction','goodbadugly','fellowshipthering']\n",
        "print(filmes)\n",
        "print(type(filmes))"
      ],
      "execution_count": 8,
      "outputs": [
        {
          "output_type": "stream",
          "name": "stdout",
          "text": [
            "['shawshank', 'godfather', 'godfatherII', 'darkknight', '12angrymen', 'schindlers', 'returnoftheking', 'pulpfiction', 'goodbadugly', 'fellowshipthering']\n",
            "<class 'list'>\n"
          ]
        }
      ]
    },
    {
      "cell_type": "markdown",
      "metadata": {
        "id": "KI9zQRT2xa7m"
      },
      "source": [
        "Simule a movimentação do *ranking*. Utilize os métodos `insert` e `pop` para trocar a posição do primeiro e do segundo filme da lista. Imprima o resultado.\n",
        "\n"
      ]
    },
    {
      "cell_type": "code",
      "metadata": {
        "id": "zX3mA3_GzrXH",
        "colab": {
          "base_uri": "https://localhost:8080/"
        },
        "outputId": "59774584-29ea-4bcc-e5ce-fd107ee233f4"
      },
      "source": [
        "filmes.pop(0)\n",
        "\n",
        "filmes.insert (0, 'godfather')\n",
        "\n",
        "filmes.pop(1)\n",
        "\n",
        "filmes.insert (1, 'shawshank')\n",
        "print(filmes)\n",
        "\n"
      ],
      "execution_count": 9,
      "outputs": [
        {
          "output_type": "stream",
          "name": "stdout",
          "text": [
            "['godfather', 'shawshank', 'godfatherII', 'darkknight', '12angrymen', 'schindlers', 'returnoftheking', 'pulpfiction', 'goodbadugly', 'fellowshipthering']\n"
          ]
        }
      ]
    },
    {
      "cell_type": "markdown",
      "metadata": {
        "id": "zMN1Q3jdwoJm"
      },
      "source": [
        "---"
      ]
    },
    {
      "cell_type": "markdown",
      "metadata": {
        "id": "lxa5L6uF0ZJE"
      },
      "source": [
        "## 2\\. Conjuntos"
      ]
    },
    {
      "cell_type": "markdown",
      "metadata": {
        "id": "9JahS2Kj0d5u"
      },
      "source": [
        "Aconteceu um erro no seu *ranking*. Simule a duplicação dos três últimos filmes da lista. Imprima o resultado."
      ]
    },
    {
      "cell_type": "code",
      "metadata": {
        "id": "BnjnLBNC6PGe",
        "colab": {
          "base_uri": "https://localhost:8080/"
        },
        "outputId": "80170876-8dc1-48ca-bb28-0343cce2c90f"
      },
      "source": [
        "filmes = ['shawshank','godfather','godfatherII','darkknight','12angrymen','schindlers','returnoftheking','pulpfiction','goodbadugly','fellowshipthering','pulpfiction','goodbadugly','fellowshipthering']\n",
        "print(filmes)"
      ],
      "execution_count": 10,
      "outputs": [
        {
          "output_type": "stream",
          "name": "stdout",
          "text": [
            "['shawshank', 'godfather', 'godfatherII', 'darkknight', '12angrymen', 'schindlers', 'returnoftheking', 'pulpfiction', 'goodbadugly', 'fellowshipthering', 'pulpfiction', 'goodbadugly', 'fellowshipthering']\n"
          ]
        }
      ]
    },
    {
      "cell_type": "markdown",
      "metadata": {
        "id": "suxTfCJB6ZiX"
      },
      "source": [
        "Utiliza a conversão `set` e `list` para remover os valores duplicados. Imprima o resultado. "
      ]
    },
    {
      "cell_type": "code",
      "metadata": {
        "id": "ZvUGN-0n6joM",
        "colab": {
          "base_uri": "https://localhost:8080/"
        },
        "outputId": "d3b891a2-30bf-4096-b3e1-cffb4a938df2"
      },
      "source": [
        "filmes = ['shawshank','godfather','godfatherII','darkknight','12angrymen','schindlers','returnoftheking','pulpfiction','goodbadugly','fellowshipthering','pulpfiction','goodbadugly','fellowshipthering']\n",
        "\n",
        "filmes = list(set(filmes))\n",
        "print(filmes)\n",
        "\n",
        "filmes = set(list(filmes))\n",
        "print(filmes)"
      ],
      "execution_count": 11,
      "outputs": [
        {
          "output_type": "stream",
          "name": "stdout",
          "text": [
            "['fellowshipthering', 'shawshank', '12angrymen', 'godfatherII', 'godfather', 'returnoftheking', 'goodbadugly', 'pulpfiction', 'darkknight', 'schindlers']\n",
            "{'schindlers', 'shawshank', 'godfatherII', '12angrymen', 'godfather', 'returnoftheking', 'fellowshipthering', 'pulpfiction', 'darkknight', 'goodbadugly'}\n"
          ]
        }
      ]
    },
    {
      "cell_type": "markdown",
      "metadata": {
        "id": "ShkK35eQ6pAM"
      },
      "source": [
        "---"
      ]
    },
    {
      "cell_type": "markdown",
      "metadata": {
        "id": "EL_FzmxL6rTv"
      },
      "source": [
        "## 3\\. Dicionários"
      ]
    },
    {
      "cell_type": "markdown",
      "metadata": {
        "id": "i8l0gFqRCpfT"
      },
      "source": [
        "Repita os exercícios da parte 1 (listas). Os elementos da lista `filmes` devem ser dicionários no seguinte formato: `{'nome': <nome-do-filme>, 'ano': <ano do filme>}, 'sinopse': <sinopse do filme>}`. "
      ]
    },
    {
      "cell_type": "code",
      "source": [
        "filmes = { \n",
        "      'shawshank': {\n",
        "      'nome':' The Shawshank Redemption',\n",
        "          'ano': 1994,\n",
        "              'sinopse':'Two imprisoned men bond over a number of years, finding solace and eventual redemption through acts of common decency.'\n",
        "                    }\n",
        "         },{\n",
        "   'godfather': {\n",
        "      'nome':'The Godfather',\n",
        "          'ano': 1972,\n",
        "              'sinopse':'The aging patriarch of an organized crime dynasty in postwar New York City transfers control of his clandestine empire to his reluctant youngest son.'\n",
        "               }\n",
        "         },{\n",
        "  'godfatherII': {\n",
        "      'nome':'The Godfather: Part II',\n",
        "          'ano':1974,\n",
        "              'sinopse':'The early life and career of Vito Corleone in 1920s New York City is portrayed, while his son, Michael, expands and tightens his grip on the family crime syndicate.'\n",
        "              }\n",
        "        },{\n",
        "  'darkknight': {\n",
        "      'nome':'The Dark Knight',\n",
        "          'ano':2008,\n",
        "              'sinopse':'When the menace known as the Joker wreaks havoc and chaos on the people of Gotham, Batman must accept one of the greatest psychological and physical tests of his ability to fight injustice.'      \n",
        "              }\n",
        "          },{\n",
        " '12angrymen': {\n",
        "      'nome':'12 Angry Men',\n",
        "          'ano':1957,\n",
        "              'sinopse':'The jury in a New York City murder trial is frustrated by a single member whose skeptical caution forces them to more carefully consider the evidence before jumping to a hasty verdict.'\n",
        "              }\n",
        "          },{\n",
        "    'schindlers': {\n",
        "      'nome':'Schindlers List',\n",
        "          'ano':1993,\n",
        "              'sinopse':'In German-occupied Poland during World War II, industrialist Oskar Schindler gradually becomes concerned for his Jewish workforce after witnessing their persecution by the Nazis.'   \n",
        "              }\n",
        "          },{\n",
        "    'returnoftheking': {\n",
        "      'nome':'The Lord of the Rings: The Return of the King',\n",
        "          'ano':2003,\n",
        "              'sinopse':'Gandalf and Aragorn lead the World of Men against Saurons army to draw his gaze from Frodo and Sam as they approach Mount Doom with the One Ring.'\n",
        "              }\n",
        "          },{    \n",
        "  'pulpfiction': {\n",
        "      'nome':'Pulp Fiction',\n",
        "          'ano':1994,\n",
        "              'sinopse':'The lives of two mob hitmen, a boxer, a gangster and his wife, and a pair of diner bandits intertwine in four tales of violence and redemption.'  \n",
        "              }\n",
        "          },{\n",
        " 'goodbadugly': {\n",
        "      'nome':'The Good, the Bad and the Ugly',\n",
        "          'ano':1966,\n",
        "              'sinopse':'A bounty hunting scam joins two men in an uneasy alliance against a third in a race to find a fortune in gold buried in a remote cemetery.'                \n",
        "              }\n",
        "          },{\n",
        "  'fellowshipthering': {\n",
        "      'nome':'The Lord of the Rings: The Fellowship of the Ring',\n",
        "          'ano':2001,\n",
        "              'sinopse':'A meek Hobbit from the Shire and eight companions set out on a journey to destroy the powerful One Ring and save Middle-earth from the Dark Lord Sauron.'\n",
        "          }\n",
        "      },\n",
        "\n",
        "print(filmes)"
      ],
      "metadata": {
        "id": "auPnwJvwy_AZ",
        "colab": {
          "base_uri": "https://localhost:8080/"
        },
        "outputId": "15ea7ec7-db64-4050-9be6-ac88d822e2e4"
      },
      "execution_count": 12,
      "outputs": [
        {
          "output_type": "stream",
          "name": "stdout",
          "text": [
            "({'shawshank': {'nome': ' The Shawshank Redemption', 'ano': 1994, 'sinopse': 'Two imprisoned men bond over a number of years, finding solace and eventual redemption through acts of common decency.'}}, {'godfather': {'nome': 'The Godfather', 'ano': 1972, 'sinopse': 'The aging patriarch of an organized crime dynasty in postwar New York City transfers control of his clandestine empire to his reluctant youngest son.'}}, {'godfatherII': {'nome': 'The Godfather: Part II', 'ano': 1974, 'sinopse': 'The early life and career of Vito Corleone in 1920s New York City is portrayed, while his son, Michael, expands and tightens his grip on the family crime syndicate.'}}, {'darkknight': {'nome': 'The Dark Knight', 'ano': 2008, 'sinopse': 'When the menace known as the Joker wreaks havoc and chaos on the people of Gotham, Batman must accept one of the greatest psychological and physical tests of his ability to fight injustice.'}}, {'12angrymen': {'nome': '12 Angry Men', 'ano': 1957, 'sinopse': 'The jury in a New York City murder trial is frustrated by a single member whose skeptical caution forces them to more carefully consider the evidence before jumping to a hasty verdict.'}}, {'schindlers': {'nome': 'Schindlers List', 'ano': 1993, 'sinopse': 'In German-occupied Poland during World War II, industrialist Oskar Schindler gradually becomes concerned for his Jewish workforce after witnessing their persecution by the Nazis.'}}, {'returnoftheking': {'nome': 'The Lord of the Rings: The Return of the King', 'ano': 2003, 'sinopse': 'Gandalf and Aragorn lead the World of Men against Saurons army to draw his gaze from Frodo and Sam as they approach Mount Doom with the One Ring.'}}, {'pulpfiction': {'nome': 'Pulp Fiction', 'ano': 1994, 'sinopse': 'The lives of two mob hitmen, a boxer, a gangster and his wife, and a pair of diner bandits intertwine in four tales of violence and redemption.'}}, {'goodbadugly': {'nome': 'The Good, the Bad and the Ugly', 'ano': 1966, 'sinopse': 'A bounty hunting scam joins two men in an uneasy alliance against a third in a race to find a fortune in gold buried in a remote cemetery.'}}, {'fellowshipthering': {'nome': 'The Lord of the Rings: The Fellowship of the Ring', 'ano': 2001, 'sinopse': 'A meek Hobbit from the Shire and eight companions set out on a journey to destroy the powerful One Ring and save Middle-earth from the Dark Lord Sauron.'}})\n"
          ]
        }
      ]
    },
    {
      "cell_type": "code",
      "source": [
        "\n"
      ],
      "metadata": {
        "id": "HjG4RL1300uc"
      },
      "execution_count": null,
      "outputs": []
    }
  ]
}